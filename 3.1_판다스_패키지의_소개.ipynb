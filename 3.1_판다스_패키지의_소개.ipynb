{
  "nbformat": 4,
  "nbformat_minor": 0,
  "metadata": {
    "celltoolbar": "Edit Metadata",
    "kernelspec": {
      "display_name": "Python 3",
      "language": "python",
      "name": "python3"
    },
    "language_info": {
      "codemirror_mode": {
        "name": "ipython",
        "version": 3
      },
      "file_extension": ".py",
      "mimetype": "text/x-python",
      "name": "python",
      "nbconvert_exporter": "python",
      "pygments_lexer": "ipython3",
      "version": "3.7.6"
    },
    "latex_envs": {
      "LaTeX_envs_menu_present": true,
      "autoclose": false,
      "autocomplete": true,
      "bibliofile": "biblio.bib",
      "cite_by": "apalike",
      "current_citInitial": 1,
      "eqLabelWithNumbers": true,
      "eqNumInitial": 1,
      "hotkeys": {
        "equation": "Ctrl-E",
        "itemize": "Ctrl-I"
      },
      "labels_anchors": false,
      "latex_user_defs": false,
      "report_style_numbering": false,
      "user_envs_cfg": false
    },
    "toc": {
      "base_numbering": 1,
      "nav_menu": {},
      "number_sections": false,
      "sideBar": true,
      "skip_h1_title": false,
      "title_cell": "Table of Contents",
      "title_sidebar": "Contents",
      "toc_cell": false,
      "toc_position": {},
      "toc_section_display": true,
      "toc_window_display": false
    },
    "colab": {
      "name": "04.01 판다스 패키지의 소개.ipynb의 사본",
      "provenance": [],
      "include_colab_link": true
    }
  },
  "cells": [
    {
      "cell_type": "markdown",
      "metadata": {
        "id": "view-in-github",
        "colab_type": "text"
      },
      "source": [
        "<a href=\"https://colab.research.google.com/github/SWeat-python-weekend-study/tutor_code/blob/lesson2-2/3.1_%ED%8C%90%EB%8B%A4%EC%8A%A4_%ED%8C%A8%ED%82%A4%EC%A7%80%EC%9D%98_%EC%86%8C%EA%B0%9C.ipynb\" target=\"_parent\"><img src=\"https://colab.research.google.com/assets/colab-badge.svg\" alt=\"Open In Colab\"/></a>"
      ]
    },
    {
      "cell_type": "markdown",
      "metadata": {
        "school_cell_uuid": "dc6b83ffa8d24ceab4fc4ffa0d5ad13c",
        "id": "KRmWeTYUQcon"
      },
      "source": [
        "# 4.1 판다스 패키지의 소개"
      ]
    },
    {
      "cell_type": "markdown",
      "metadata": {
        "school_cell_uuid": "e4f141832df248648077306c4715b7e1",
        "id": "GvWBavCZQcpF"
      },
      "source": [
        "대부분의 데이터는 **시계열(series)**이나 **표(table)**의 형태로 나타낼 수 있다. 판다스(Pandas) 패키지는 이러한 데이터를 다루기 위한 시리즈(``Series``) 클래스와 데이터프레임(``DataFrame``) 클래스를 제공한다."
      ]
    },
    {
      "cell_type": "markdown",
      "metadata": {
        "id": "ugKSXG-5QcpH"
      },
      "source": [
        "## 판다스 패키지 임포트"
      ]
    },
    {
      "cell_type": "markdown",
      "metadata": {
        "id": "3JYTmZFoQcpI"
      },
      "source": [
        "판다스 패키지를 사용하기 위해 우선 임포트를 해야 한다. 판다스 패키지는 `pd`라는 별칭으로 임포트하는 것이 관례이므로 여기에서도 해당 관례를 따르도록 한다.\n"
      ]
    },
    {
      "cell_type": "code",
      "metadata": {
        "id": "AktfTPmQQcpK"
      },
      "source": [
        "import pandas as pd"
      ],
      "execution_count": null,
      "outputs": []
    },
    {
      "cell_type": "markdown",
      "metadata": {
        "school_cell_uuid": "a6ed8b46916e4ef1b2bf35d32f40067a",
        "id": "gPb24yNLQcpO"
      },
      "source": [
        "## 시리즈 클래스"
      ]
    },
    {
      "cell_type": "markdown",
      "metadata": {
        "id": "QDeG9jw3QcpQ"
      },
      "source": [
        "```{margin}\n",
        "`Series`\n",
        "```"
      ]
    },
    {
      "cell_type": "markdown",
      "metadata": {
        "id": "g9Dx-5whQcpR"
      },
      "source": [
        "```{margin}\n",
        "인덱스(index)\n",
        "```"
      ]
    },
    {
      "cell_type": "markdown",
      "metadata": {
        "id": "HYC45OKWQcpR"
      },
      "source": [
        "```{margin}\n",
        "값(value)\n",
        "```"
      ]
    },
    {
      "cell_type": "markdown",
      "metadata": {
        "school_cell_uuid": "3a712e9e0a034dbc8baa3d407d9d4387",
        "id": "fQxBNUyfQcpS"
      },
      "source": [
        "시리즈 ``Series`` 클래스는 넘파이에서 제공하는 **1차원 배열과 비슷**하지만 각 데이터의 의미를 표시하는 **인덱스(index)**를 붙일 수 있다. 데이터 자체는 값(value)라고 한다.\n",
        "\n",
        "> 시리즈 = 값(value) + 인덱스(index)"
      ]
    },
    {
      "cell_type": "markdown",
      "metadata": {
        "school_cell_uuid": "5abd1aa1c4d24870a06f9815af803680",
        "id": "sPZXyrqkQcpT"
      },
      "source": [
        "### 시리즈 생성"
      ]
    },
    {
      "cell_type": "markdown",
      "metadata": {
        "id": "8jEFH5hvQcpT"
      },
      "source": [
        "```{margin}\n",
        "인덱스 라벨(index label)\n",
        "```"
      ]
    },
    {
      "cell_type": "markdown",
      "metadata": {
        "school_cell_uuid": "6de67d6baff546469bb6d37faff21ee6",
        "id": "7zX6qQIHQcpU"
      },
      "source": [
        "데이터를 리스트나 1차원 배열 형식으로 ``Series`` 클래스 생성자에 넣어주면 시리즈 클래스 객체를 만들 수 있다. 이 때 인덱스의 길이는 데이터의 길이와 같아야 한다. 다음 예에서 이 \"서울\", \"부산\" 등의 문자열이 인덱스의 값이다. 인덱스의 값을 인덱스 라벨(label)이라고도 한다. 인덱스 라벨은 문자열 뿐 아니라 날짜, 시간, 정수 등도 가능하다.\n",
        "\n",
        "다음 예제는 각 도시의 2015년 인구 데이터를 시리즈로 만든 것이다."
      ]
    },
    {
      "cell_type": "code",
      "metadata": {
        "school_cell_uuid": "9fa08e75d4e14cb098b1d380642cb058",
        "id": "uV9oqW3YQcpV"
      },
      "source": [
        "s = pd.Series([9904312, 3448737, 2890451, 2466052],\n",
        "              index=[\"서울\", \"부산\", \"인천\", \"대구\"])\n",
        "s"
      ],
      "execution_count": null,
      "outputs": []
    },
    {
      "cell_type": "markdown",
      "metadata": {
        "school_cell_uuid": "3008b812f3204c9eb6a01f4668108607",
        "id": "K08BAqwiQcpY"
      },
      "source": [
        "만약 인덱스를 지정하지 않고 시리즈를 만들면 시리즈의 인덱스는 0부터 시작하는 정수값이 된다."
      ]
    },
    {
      "cell_type": "code",
      "metadata": {
        "school_cell_uuid": "0c9f9f59dabb49b5a18eb5bd386ddf1b",
        "id": "O4ii-3pMQcpa"
      },
      "source": [
        "pd.Series(range(10, 14))"
      ],
      "execution_count": null,
      "outputs": []
    },
    {
      "cell_type": "markdown",
      "metadata": {
        "id": "BimAZgtSQcpc"
      },
      "source": [
        "```{margin}\n",
        "`Series.index` 속성\n",
        "```"
      ]
    },
    {
      "cell_type": "markdown",
      "metadata": {
        "id": "wYsgx3HnQcpc"
      },
      "source": [
        "```{margin}\n",
        "`Series.values` 속성\n",
        "```"
      ]
    },
    {
      "cell_type": "markdown",
      "metadata": {
        "school_cell_uuid": "d6b2f6b5c86e4f9a845615312d18996a",
        "id": "2y07McYVQcpd"
      },
      "source": [
        "시리즈의 인덱스는 ``index`` 속성으로 접근할 수 있다. 시리즈의 값은 1차원 배열이며 ``values`` 속성으로 접근할 수 있다."
      ]
    },
    {
      "cell_type": "code",
      "metadata": {
        "school_cell_uuid": "1403d31d9a7240b88e953ecac8fd2d7d",
        "id": "p7yM_LapQcpe"
      },
      "source": [
        "s.index"
      ],
      "execution_count": null,
      "outputs": []
    },
    {
      "cell_type": "code",
      "metadata": {
        "school_cell_uuid": "4a2a95c6b7c941f3ac29e083c583f1d5",
        "id": "jxv2eno4Qcpf"
      },
      "source": [
        "s.values"
      ],
      "execution_count": null,
      "outputs": []
    },
    {
      "cell_type": "markdown",
      "metadata": {
        "id": "EE_oQyTkQcpf"
      },
      "source": [
        "```{margin}\n",
        "`Series.name` 속성\n",
        "```"
      ]
    },
    {
      "cell_type": "markdown",
      "metadata": {
        "id": "8PnHPrmAQcpg"
      },
      "source": [
        "```{margin}\n",
        "`Series.index.name` 속성\n",
        "```"
      ]
    },
    {
      "cell_type": "markdown",
      "metadata": {
        "school_cell_uuid": "f820fac1fbb34477b7ef9e8523318fa6",
        "id": "D2UlurzbQcpg"
      },
      "source": [
        "`name` 속성을 이용하여  시리즈 데이터에 이름을 붙일 수 있다. `index.name` 속성으로 시리즈의 인덱스에도 이름을 붙일 수 있다. "
      ]
    },
    {
      "cell_type": "code",
      "metadata": {
        "school_cell_uuid": "c57a4327b374492db5d8638f1cca2d7d",
        "id": "ePvoGbQTQcph"
      },
      "source": [
        "s.name = \"인구\"\n",
        "s.index.name = \"도시\"\n",
        "s"
      ],
      "execution_count": null,
      "outputs": []
    },
    {
      "cell_type": "markdown",
      "metadata": {
        "school_cell_uuid": "9bbe04e711054f68ae0b4acc73f60069",
        "id": "IcdEwdlBQcph"
      },
      "source": [
        "### 시리즈 연산"
      ]
    },
    {
      "cell_type": "markdown",
      "metadata": {
        "school_cell_uuid": "fc0d49204c084ea3a7b16dc8d7fed7de",
        "id": "z0_rsfeGQcpi"
      },
      "source": [
        "넘파이 배열처럼 시리즈도 벡터화 연산을 할 수 있다. 다만 연산은 시리즈의 값에만 적용되며 인덱스 값은 변하지 않는다. 예를 들어 인구 숫자를 백만 단위로 만들기 위해 시리즈 객체를 1,000,000 으로 나누어도 인덱스 라벨에는 영향을 미치지 않는 것을 볼 수 있다."
      ]
    },
    {
      "cell_type": "code",
      "metadata": {
        "school_cell_uuid": "01523227d18d444c82e92889ee66ba9b",
        "id": "D77SdLzqQcpi"
      },
      "source": [
        "s / 1000000"
      ],
      "execution_count": null,
      "outputs": []
    },
    {
      "cell_type": "markdown",
      "metadata": {
        "school_cell_uuid": "0a460761c538494392521958340f3db2",
        "id": "w5c2SLBAQcpj"
      },
      "source": [
        "### 시리즈 인덱싱"
      ]
    },
    {
      "cell_type": "markdown",
      "metadata": {
        "school_cell_uuid": "5d691e1912ab4b31bd374e393a3a76b4",
        "id": "6bMXDr-vQcpk"
      },
      "source": [
        "시리즈는 넘파이 배열에서 가능한 인덱스 방법 이외에도 인덱스 라벨을 이용한 인덱싱도 할 수 있다. 배열 인덱싱이나 인덱스 라벨을 이용한 슬라이싱(slicing)도 가능하다. "
      ]
    },
    {
      "cell_type": "markdown",
      "metadata": {
        "id": "0vL9GWgPQcpk"
      },
      "source": [
        "시리즈 데이터를 인덱싱하면 값이 나온다."
      ]
    },
    {
      "cell_type": "code",
      "metadata": {
        "school_cell_uuid": "b8ea4f47a1a74f9a9dcdd5766bafbe4a",
        "id": "jpfpm4glQcpk"
      },
      "source": [
        "s[1], s[\"부산\"]"
      ],
      "execution_count": null,
      "outputs": []
    },
    {
      "cell_type": "code",
      "metadata": {
        "school_cell_uuid": "738b84d048d24932a67a44b824730ed4",
        "id": "ZYXPEcaFQcpl"
      },
      "source": [
        "s[3], s[\"대구\"]"
      ],
      "execution_count": null,
      "outputs": []
    },
    {
      "cell_type": "markdown",
      "metadata": {
        "school_cell_uuid": "ea3b2ccf4429416387049789e64199b0",
        "id": "f2pjO-uxQcpm"
      },
      "source": [
        "배열 인덱싱을 하면 **부분적인 값을 가지는 시리즈 자료형을 반환**한다. 자료의 순서를 바꾸거나 특정한 자료만 선택할 수 있다."
      ]
    },
    {
      "cell_type": "code",
      "metadata": {
        "school_cell_uuid": "1a1244671264480aaa2441ccbd8393f8",
        "id": "fQl0PvowQcpm"
      },
      "source": [
        "s[[0, 3, 1]]"
      ],
      "execution_count": null,
      "outputs": []
    },
    {
      "cell_type": "code",
      "metadata": {
        "school_cell_uuid": "2e443412204a4a908a484f8ccc556dc8",
        "id": "IYMyswGlQcpn"
      },
      "source": [
        "s[[\"서울\", \"대구\", \"부산\"]]"
      ],
      "execution_count": null,
      "outputs": []
    },
    {
      "cell_type": "code",
      "metadata": {
        "school_cell_uuid": "791016a6790f4c65b29b4bc189db6f2f",
        "id": "skEkvXOmQcpn"
      },
      "source": [
        "s[(250e4 < s) & (s < 500e4)]  # 인구가 250만 초과, 500만 미만인 경우"
      ],
      "execution_count": null,
      "outputs": []
    },
    {
      "cell_type": "markdown",
      "metadata": {
        "school_cell_uuid": "a8b0a57bccbb4c7fae9c1c9af24cd8c0",
        "id": "P8EC59qYQcpo"
      },
      "source": [
        "슬라이싱을 해도 부분적인 시리즈를 반환한다. 이 때 문자열 라벨을 이용한 슬라이싱을 하는 경우에는 숫자 인덱싱과 달리 콜론(:) 기호 뒤에 오는 값도 결과에 포함되므로 주의해야 한다."
      ]
    },
    {
      "cell_type": "code",
      "metadata": {
        "school_cell_uuid": "9b72912399f64946868ca7db285e7815",
        "id": "yNx2gEkyQcpo"
      },
      "source": [
        "s[1:3]  # 두번째(1)부터 세번째(2)까지 (네번째(3) 미포함)"
      ],
      "execution_count": null,
      "outputs": []
    },
    {
      "cell_type": "code",
      "metadata": {
        "school_cell_uuid": "976705921b664f2aa13384fad2011b34",
        "id": "dK4xDv3PQcpp"
      },
      "source": [
        "s[\"부산\":\"대구\"]  # 부산에서 대구까지 (대구도 포함)"
      ],
      "execution_count": null,
      "outputs": []
    },
    {
      "cell_type": "markdown",
      "metadata": {
        "school_cell_uuid": "5d9774e7ae9e451bb0506abee40ea9d4",
        "id": "cBVxZu0kQcpq"
      },
      "source": [
        "만약 라벨 값이 영문 문자열인 경우에는 인덱스 라벨이 속성인것처럼 점(.)을 이용하여 해당 인덱스 값에 접근할 수도 있다."
      ]
    },
    {
      "cell_type": "code",
      "metadata": {
        "school_cell_uuid": "b6cd36b562c9435781d5c850c2904c2f",
        "id": "7CI8in8_Qcpq"
      },
      "source": [
        "s0 = pd.Series(range(3), index=[\"a\", \"b\", \"c\"])\n",
        "s0"
      ],
      "execution_count": null,
      "outputs": []
    },
    {
      "cell_type": "code",
      "metadata": {
        "school_cell_uuid": "70da807ffc714a0ca308351fa09f2a8d",
        "id": "xA5BXnLWQcpr"
      },
      "source": [
        "s0.a"
      ],
      "execution_count": null,
      "outputs": []
    },
    {
      "cell_type": "code",
      "metadata": {
        "school_cell_uuid": "bceb889ef43d4ffd8505ef2da02cdada",
        "id": "MolgoRoeQcpr"
      },
      "source": [
        "s0.b"
      ],
      "execution_count": null,
      "outputs": []
    },
    {
      "cell_type": "markdown",
      "metadata": {
        "school_cell_uuid": "bc306946bdc74b3094b17207a6582aac",
        "id": "ddAuEGoNQcps"
      },
      "source": [
        "### 시리즈와 딕셔너리 자료형"
      ]
    },
    {
      "cell_type": "markdown",
      "metadata": {
        "school_cell_uuid": "564dcaad40c541daa8b6fe4f51045184",
        "id": "GthGbUw_Qcps"
      },
      "source": [
        "시리즈 객체는 라벨 값에 의해 인덱싱이 가능하므로 실질적으로 인덱스 라벨 값을 키(key)로 가지는 딕셔너리 자료형과 같다고 볼 수 있다. 따라서 딕셔너리 자료형에서 제공하는 ``in`` 연산도 가능하고 ``items`` 메서드를 사용하면 ``for`` 루프를 통해 각 원소의 키(key)와 값(value)을 접근할 수도 있다."
      ]
    },
    {
      "cell_type": "code",
      "metadata": {
        "school_cell_uuid": "c6348495d2c74d54b31ffd303b96f16a",
        "id": "IVgaOZBzQcpt"
      },
      "source": [
        "\"서울\" in s  # 인덱스 라벨 중에 서울이 있는가"
      ],
      "execution_count": null,
      "outputs": []
    },
    {
      "cell_type": "code",
      "metadata": {
        "school_cell_uuid": "c9aafec8ff874ee1994aa4df0ea4eb90",
        "id": "EiiNgwM-Qcpu"
      },
      "source": [
        "\"대전\" in s  # 인덱스 라벨 중에 대전이 있는가"
      ],
      "execution_count": null,
      "outputs": []
    },
    {
      "cell_type": "code",
      "metadata": {
        "school_cell_uuid": "a739f2afa225410b98afdcc29fca8ebb",
        "id": "i8Bm-apaQcpu"
      },
      "source": [
        "for k, v in s.items():\n",
        "    print(\"%s = %d\" % (k, v))"
      ],
      "execution_count": null,
      "outputs": []
    },
    {
      "cell_type": "markdown",
      "metadata": {
        "school_cell_uuid": "98c066a53d6c4cd1ba26e144e7187626",
        "id": "55DG6LjEQcpv"
      },
      "source": [
        "또 딕셔너리 객체에서 시리즈를 만들 수도 있다. 이번에는 2010년의 인구 자료를 `s2`라는 이름의 시리즈로 만들어 보자. 이 데이터에는 대구의 인구 자료는 없지만 대신 대전의 인구 자료가 포함되어 있다."
      ]
    },
    {
      "cell_type": "code",
      "metadata": {
        "school_cell_uuid": "691d7d5a387f43078681e61f3859d666",
        "id": "UcTsJt6UQcpv"
      },
      "source": [
        "s2 = pd.Series({\"서울\": 9631482, \"부산\": 3393191, \"인천\": 2632035, \"대전\": 1490158})\n",
        "s2"
      ],
      "execution_count": null,
      "outputs": []
    },
    {
      "cell_type": "markdown",
      "metadata": {
        "school_cell_uuid": "1ceffd252c634b81a246c2e316a4294e",
        "id": "YTiQPQoJQcpw"
      },
      "source": [
        "딕셔너리의 원소는 순서를 가지지 않으므로 시리즈의 데이터도 순서가 보장되지 않는다. 만약 순서를 정하고 싶다면 인덱스를 리스트로 지정해야 한다."
      ]
    },
    {
      "cell_type": "code",
      "metadata": {
        "school_cell_uuid": "f89abbbf147b44f9a59e8d5a40ae172c",
        "id": "-aOSEx61Qcpw"
      },
      "source": [
        "s2 = pd.Series({\"서울\": 9631482, \"부산\": 3393191, \"인천\": 2632035, \"대전\": 1490158},\n",
        "               index=[\"부산\", \"서울\", \"인천\", \"대전\"])\n",
        "s2"
      ],
      "execution_count": null,
      "outputs": []
    },
    {
      "cell_type": "markdown",
      "metadata": {
        "school_cell_uuid": "dc8ea13ac9d64e36b8b0e1b8e81d1a66",
        "id": "EJDg38BHQcpx"
      },
      "source": [
        "### 인덱스 기반 연산"
      ]
    },
    {
      "cell_type": "markdown",
      "metadata": {
        "school_cell_uuid": "27256ea15a404ed586d35fbe1c83c31a",
        "id": "rPZcdri5Qcpx"
      },
      "source": [
        "이번에는 2015년도와 2010년의 인구 증가를 계산해 보자. 두 개의 시리즈의 차이를 구하면 된다. 두 시리즈에 대해 연산을 하는 경우 인덱스가 같은 데이터에 대해서만 차이를 구한다."
      ]
    },
    {
      "cell_type": "code",
      "metadata": {
        "school_cell_uuid": "53f81342b44f4bb28b3ea0f8a4d1778d",
        "id": "22ZYK9egQcpx"
      },
      "source": [
        "ds = s - s2\n",
        "ds"
      ],
      "execution_count": null,
      "outputs": []
    },
    {
      "cell_type": "code",
      "metadata": {
        "school_cell_uuid": "953fbb01da8743ebaabe897eec3eef19",
        "id": "VBqKcWDHQcpy"
      },
      "source": [
        "s.values - s2.values"
      ],
      "execution_count": null,
      "outputs": []
    },
    {
      "cell_type": "markdown",
      "metadata": {
        "id": "3jOroYnKQcpy"
      },
      "source": [
        "```{margin}\n",
        "`Series.notnull`\n",
        "```"
      ]
    },
    {
      "cell_type": "markdown",
      "metadata": {
        "school_cell_uuid": "0699a244243e4d6394e82b0a9a1aa745",
        "id": "voCknF2CQcpz"
      },
      "source": [
        "대구와 대전의 경우에는 2010년 자료와 2015년 자료가 모두 존재하지 않기 때문에 계산이 불가능하므로 ``NaN``(Not a Number)이라는 값을 가지게 된다. 또한 ``NaN`` 값이 ``float`` 자료형에서만 가능하므로 다른 계산 결과도 모두 ``float`` 자료형이 되었다는 점에 주의한다. ``NaN``이 아닌 값을 구하려면 ``notnull`` 메서드를 사용한다."
      ]
    },
    {
      "cell_type": "code",
      "metadata": {
        "school_cell_uuid": "4f0860edcc90436497f469e0d7ec890a",
        "id": "T9J0h9UkQcpz"
      },
      "source": [
        "ds.notnull()"
      ],
      "execution_count": null,
      "outputs": []
    },
    {
      "cell_type": "code",
      "metadata": {
        "school_cell_uuid": "a7104df98e104d00a64cc09b1044b876",
        "id": "_ZCaZezyQcpz"
      },
      "source": [
        "ds[ds.notnull()]"
      ],
      "execution_count": null,
      "outputs": []
    },
    {
      "cell_type": "markdown",
      "metadata": {
        "school_cell_uuid": "8540d53b10dd49fabc85f284e6ab4352",
        "id": "2OVON2aqQcp0"
      },
      "source": [
        "마찬가지로 인구 증가율(%)은 다음과 같이 구할 수 있다."
      ]
    },
    {
      "cell_type": "code",
      "metadata": {
        "school_cell_uuid": "0df4457dc3174341a01887ce167b0009",
        "id": "bMRRddriQcp0"
      },
      "source": [
        "rs = (s - s2) / s2 * 100\n",
        "rs = rs[rs.notnull()]\n",
        "rs"
      ],
      "execution_count": null,
      "outputs": []
    },
    {
      "cell_type": "markdown",
      "metadata": {
        "school_cell_uuid": "3726aba0c5734c22a8ed620db33c3074",
        "id": "4-kNZMYfQcp0"
      },
      "source": [
        "### 데이터의 갱신, 추가, 삭제"
      ]
    },
    {
      "cell_type": "markdown",
      "metadata": {
        "school_cell_uuid": "5bdb56ee5555453e84d5f9a7956b1cae",
        "id": "5WheKSe7Qcp1"
      },
      "source": [
        "인덱싱을 이용하면 딕셔너리처럼 데이터를 갱신(update)하거나 추가(add)할 수 있다."
      ]
    },
    {
      "cell_type": "code",
      "metadata": {
        "school_cell_uuid": "225cd381ff2c4cfca1c4f0519ea257d5",
        "id": "rKP_1EfkQcp1"
      },
      "source": [
        "rs[\"부산\"] = 1.63\n",
        "rs"
      ],
      "execution_count": null,
      "outputs": []
    },
    {
      "cell_type": "code",
      "metadata": {
        "school_cell_uuid": "e4f1b489a3a64d07ba32c9f38a4255dd",
        "id": "RrTwTsRNQcp2"
      },
      "source": [
        "rs[\"대구\"] = 1.41\n",
        "rs"
      ],
      "execution_count": null,
      "outputs": []
    },
    {
      "cell_type": "markdown",
      "metadata": {
        "school_cell_uuid": "dd1d397fd51a4926b11f2a2048a7fea9",
        "id": "Cm4ikIAwQcp3"
      },
      "source": [
        "데이터를 삭제할 때도 딕셔너리처럼 ``del`` 명령을 사용한다."
      ]
    },
    {
      "cell_type": "code",
      "metadata": {
        "school_cell_uuid": "8bde53108bf44e1dbade9d5074fb488b",
        "id": "9LzPLVxBQcp4"
      },
      "source": [
        "del rs[\"서울\"]\n",
        "rs"
      ],
      "execution_count": null,
      "outputs": []
    },
    {
      "cell_type": "markdown",
      "metadata": {
        "bootstrap": {
          "panel": {
            "class": "panel-default"
          }
        },
        "school_cell_uuid": "e37624aaec0540468047652aa8d31e40",
        "id": "7KCaOUtRQcp4"
      },
      "source": [
        "**<스스로> 연습문제**\n",
        "````{admonition} 연습 문제 4.1.1\n",
        "\n",
        "(1) 임의로 두 개의 시리즈 객체를 만든다. 모두 문자열 인덱스를 가져야 하며 두 시리즈에 공통적으로 포함되지 않는 라벨이 있어야 한다.\n",
        "\n",
        "\n",
        "(2) 위에서 만든 두 시리즈 객체를 이용하여 사칙 연산을 한다.\n",
        "\n",
        "````"
      ]
    },
    {
      "cell_type": "markdown",
      "metadata": {
        "school_cell_uuid": "79de6d0a0c8b499c8163397ada893f78",
        "id": "FYHqxjyJQcp5"
      },
      "source": [
        "## 데이터프레임 클래스"
      ]
    },
    {
      "cell_type": "markdown",
      "metadata": {
        "id": "cXhZLiYxQcp6"
      },
      "source": [
        "```{margin}\n",
        "`DataFrame`\n",
        "```"
      ]
    },
    {
      "cell_type": "markdown",
      "metadata": {
        "id": "ff7fsTPIQcp6"
      },
      "source": [
        "```{margin}\n",
        "행 인덱스(row index, index)\n",
        "```"
      ]
    },
    {
      "cell_type": "markdown",
      "metadata": {
        "id": "noEl6FcXQcp6"
      },
      "source": [
        "```{margin}\n",
        "열 인덱스(cplumn index, columns)\n",
        "```"
      ]
    },
    {
      "cell_type": "markdown",
      "metadata": {
        "school_cell_uuid": "fa06411e78094e32b6b07a3a6dfe34cb",
        "id": "MASLrN9wQcp7"
      },
      "source": [
        "시리즈가 1차원 벡터 데이터에 행방향 인덱스(row index)를 붙인 것이라면 데이터프레임 `DataFrame` 클래스는 2차원 행렬 데이터에 인덱스를 붙인 것과 비슷하다. 2차원이므로 각각의 행 데이터의 이름이 되는 행 인덱스(row index) 뿐 아니라 각각의 열 데이터의 이름이 되는 열 인덱스(column index)도 붙일 수 있다."
      ]
    },
    {
      "cell_type": "markdown",
      "metadata": {
        "school_cell_uuid": "0107de19770349c7857370bad3bae07c",
        "id": "Dljn336BQcp7"
      },
      "source": [
        "### 데이터프레임 생성"
      ]
    },
    {
      "cell_type": "markdown",
      "metadata": {
        "school_cell_uuid": "04584100e0fe4242953ab6fb75d56af9",
        "id": "ZYpn-iBdQcp7"
      },
      "source": [
        "데이터프레임을 만드는 방법은 다양하다. 가장 간단한 방법은 다음과 같다.\n",
        "\n",
        "1. 우선 하나의 열이 되는 데이터를 리스트나 일차원 배열을 준비한다. \n",
        "2. 이 각각의 열에 대한 이름(라벨)을 키로 가지는 딕셔너리를 만든다.\n",
        "3. 이 데이터를 ``DataFrame`` 클래스 생성자에 넣는다. 동시에 열방향 인덱스는 ``columns`` 인수로, 행방향 인덱스는 ``index`` 인수로 지정한다."
      ]
    },
    {
      "cell_type": "code",
      "metadata": {
        "school_cell_uuid": "ad56dd6a97c849a6ba1df6cacaad4716",
        "id": "Xexxu2VRQcp8"
      },
      "source": [
        "data = {\n",
        "    \"2015\": [9904312, 3448737, 2890451, 2466052],\n",
        "    \"2010\": [9631482, 3393191, 2632035, 2431774],\n",
        "    \"2005\": [9762546, 3512547, 2517680, 2456016],\n",
        "    \"2000\": [9853972, 3655437, 2466338, 2473990],\n",
        "    \"지역\": [\"수도권\", \"경상권\", \"수도권\", \"경상권\"],\n",
        "    \"2010-2015 증가율\": [0.0283, 0.0163, 0.0982, 0.0141]\n",
        "}\n",
        "columns = [\"지역\", \"2015\", \"2010\", \"2005\", \"2000\", \"2010-2015 증가율\"]\n",
        "index = [\"서울\", \"부산\", \"인천\", \"대구\"]\n",
        "df = pd.DataFrame(data, index=index, columns=columns)\n",
        "df"
      ],
      "execution_count": null,
      "outputs": []
    },
    {
      "cell_type": "markdown",
      "metadata": {
        "school_cell_uuid": "1df257b1de834ff58d4352f86071807e",
        "id": "hW-nqL_sQcp9"
      },
      "source": [
        "앞에서 데이터프레임은 2차원 배열 데이터를 기반으로 한다고 했지만 사실은 공통 인덱스를 가지는 열 시리즈(column series)를 딕셔너리로 묶어놓은 것이라고 보는 것이 더 정확하다. 2차원 배열 데이터는 모든 원소가 같은 자료형을 가져야 하지만 **데이터프레임은 각 열(column)마다 자료형이 다를 수 있기 때문**이다. 위 예제에서도 지역과 인구와 증가율은 각각 문자열, 정수, 부동소수점 실수이다."
      ]
    },
    {
      "cell_type": "markdown",
      "metadata": {
        "id": "xUE_acqCQcp9"
      },
      "source": [
        "```{margin}\n",
        "`DataFrame.values`\n",
        "```"
      ]
    },
    {
      "cell_type": "markdown",
      "metadata": {
        "id": "TqxWUcMlQcp9"
      },
      "source": [
        "```{margin}\n",
        "`DataFrame.columns`\n",
        "```"
      ]
    },
    {
      "cell_type": "markdown",
      "metadata": {
        "id": "Xh5zIH5kQcp-"
      },
      "source": [
        "```{margin}\n",
        "`DataFrame.index`\n",
        "```"
      ]
    },
    {
      "cell_type": "markdown",
      "metadata": {
        "school_cell_uuid": "a2d92affda1f4913af6fdd07ac3424aa",
        "id": "Jg_j7F_NQcp_"
      },
      "source": [
        "시리즈와 마찬가지로 데이터만 접근하려면 ``values`` 속성을 사용한다. 열방향 인덱스와 행방향 인덱스는 각각 ``columns``, ``index`` 속성으로 접근한다."
      ]
    },
    {
      "cell_type": "code",
      "metadata": {
        "school_cell_uuid": "304c384949634af288540e1a2c95337e",
        "id": "8w649TJEQcp_"
      },
      "source": [
        "df.values"
      ],
      "execution_count": null,
      "outputs": []
    },
    {
      "cell_type": "code",
      "metadata": {
        "school_cell_uuid": "302fa44ffa464f4fa12fe5354b4af9f2",
        "id": "VTl6NJZSQcqA"
      },
      "source": [
        "df.columns"
      ],
      "execution_count": null,
      "outputs": []
    },
    {
      "cell_type": "code",
      "metadata": {
        "school_cell_uuid": "99de7f0a3b6d4dad8f5d6b3b9cfce153",
        "id": "ECFRADrgQcqB"
      },
      "source": [
        "df.index"
      ],
      "execution_count": null,
      "outputs": []
    },
    {
      "cell_type": "markdown",
      "metadata": {
        "id": "m0CtR0frQcqB"
      },
      "source": [
        "```{margin}\n",
        "`DataFrame.columns.name`\n",
        "```"
      ]
    },
    {
      "cell_type": "markdown",
      "metadata": {
        "id": "b4oqdEfEQcqC"
      },
      "source": [
        "```{margin}\n",
        "`DataFrame.index.name`\n",
        "```"
      ]
    },
    {
      "cell_type": "markdown",
      "metadata": {
        "school_cell_uuid": "c8d07e451acd4222befd8ae9d57f09c9",
        "id": "SQjWjx_VQcqC"
      },
      "source": [
        "시리즈에서 처럼 열방향 인덱스와 행방향 인덱스에 이름을 붙이는 것도 가능하다."
      ]
    },
    {
      "cell_type": "code",
      "metadata": {
        "school_cell_uuid": "fe7f799f91754b3d89bdd25eeee35b1a",
        "id": "X6PWCaZ4QcqD"
      },
      "source": [
        "df.index.name = \"도시\"\n",
        "df.columns.name = \"특성\"\n",
        "df"
      ],
      "execution_count": null,
      "outputs": []
    },
    {
      "cell_type": "markdown",
      "metadata": {
        "bootstrap": {
          "panel": {
            "class": "panel-default"
          }
        },
        "school_cell_uuid": "1adc8742e99c42419d8ad2f539ef362c",
        "id": "OEfSWBiHQcqD"
      },
      "source": [
        "**<스스로> 연습 문제**\n",
        "\n",
        "````{admonition} 연습 문제 4.1.2\n",
        "\n",
        "다음 조건을 만족하는 임의의 데이터프레임을 하나 만든다.\n",
        "\n",
        "(1) 열의 갯수와 행의 갯수가 각각 5개 이상이어야 한다.\n",
        "\n",
        "\n",
        "(2) 열에는 정수, 문자열, 실수 자료형 데이터가 각각 1개 이상씩 포함되어 있어야 한다.\n",
        "````"
      ]
    },
    {
      "cell_type": "markdown",
      "metadata": {
        "school_cell_uuid": "fe47c0e2dea04ec3ae0564ff78e9c881",
        "id": "KtP-a06QQcqE"
      },
      "source": [
        "데이터프레임은 전치(transpose)를 포함하여 넘파이 2차원 배열이 가지는 대부분의 속성이나 메서드를 지원한다."
      ]
    },
    {
      "cell_type": "code",
      "metadata": {
        "school_cell_uuid": "a344bf84667e43618339bcaa9f5ab7b9",
        "id": "gMr7SPG2QcqE"
      },
      "source": [
        "df.T"
      ],
      "execution_count": null,
      "outputs": []
    },
    {
      "cell_type": "markdown",
      "metadata": {
        "school_cell_uuid": "2a3a6d464e6b4433bd5174559fd19a5b",
        "id": "wdmjrQZvQcqE"
      },
      "source": [
        "### 열 데이터의 갱신, 추가, 삭제"
      ]
    },
    {
      "cell_type": "markdown",
      "metadata": {
        "school_cell_uuid": "6fd687f1f7d34fd1a97eaba03409dfbd",
        "id": "rwqmpTvlQcqF"
      },
      "source": [
        "데이터프레임은 열 시리즈의 딕셔너리으로 볼 수 있으므로 열 단위로 데이터를 갱신하거나 추가, 삭제할 수 있다."
      ]
    },
    {
      "cell_type": "code",
      "metadata": {
        "school_cell_uuid": "118e7896d2a04b1991857b59411a7a7a",
        "id": "IJrpvok7QcqF"
      },
      "source": [
        "# \"2010-2015 증가율\"이라는 이름의 열 추가\n",
        "df[\"2010-2015 증가율\"] = df[\"2010-2015 증가율\"] * 100\n",
        "df"
      ],
      "execution_count": null,
      "outputs": []
    },
    {
      "cell_type": "code",
      "metadata": {
        "school_cell_uuid": "f06e0eb3cc234b458e6005c5daeff851",
        "id": "i-kIJrN4QcqG"
      },
      "source": [
        "# \"2005-2010 증가율\"이라는 이름의 열 추가\n",
        "df[\"2005-2010 증가율\"] = ((df[\"2010\"] - df[\"2005\"]) / df[\"2005\"] * 100).round(2)\n",
        "df"
      ],
      "execution_count": null,
      "outputs": []
    },
    {
      "cell_type": "code",
      "metadata": {
        "school_cell_uuid": "53766b5a5edd4c24bd9f42a867bdc25c",
        "id": "lSbJxXuVQcqG"
      },
      "source": [
        "# \"2010-2015 증가율\"이라는 이름의 열 삭제\n",
        "del df[\"2010-2015 증가율\"]\n",
        "df"
      ],
      "execution_count": null,
      "outputs": []
    },
    {
      "cell_type": "markdown",
      "metadata": {
        "school_cell_uuid": "054e8a8453344e1f82cddb291b8979ee",
        "id": "BZCnbTuBQcqH"
      },
      "source": [
        "### 열 인덱싱"
      ]
    },
    {
      "cell_type": "markdown",
      "metadata": {
        "school_cell_uuid": "11f4d33758d349c996d2df220849bf65",
        "id": "rZJgIWIBQcqH"
      },
      "source": [
        "데이터프레임은 열 라벨을 키로, 열 시리즈를 값으로 가지는 딕셔너리와 비슷하다고 하였다. 따라서 데이터프레임을 인덱싱을 할 때도 열 라벨(column label)을 키값으로 생각하여 인덱싱을 할 수 있다. 인덱스로 라벨 값을 하나만 넣으면 시리즈 객체가 반환되고 라벨의 배열 또는 리스트를 넣으면 부분적인 데이터프레임이 반환된다. "
      ]
    },
    {
      "cell_type": "code",
      "metadata": {
        "school_cell_uuid": "cd1711c77b124743b903a95f11aa36f9",
        "id": "0iAZihVyQcqI"
      },
      "source": [
        "# 하나의 열만 인덱싱하면 시리즈가 반환된다.\n",
        "df[\"지역\"]"
      ],
      "execution_count": null,
      "outputs": []
    },
    {
      "cell_type": "code",
      "metadata": {
        "school_cell_uuid": "1a466758ba714775aa408dcf8094d1f2",
        "id": "sJ16hAqzQcqJ"
      },
      "source": [
        "# 여러개의 열을 인덱싱하면 부분적인 데이터프레임이 반환된다.\n",
        "df[[\"2010\", \"2015\"]]"
      ],
      "execution_count": null,
      "outputs": []
    },
    {
      "cell_type": "markdown",
      "metadata": {
        "school_cell_uuid": "a7e0e861ca524b049abf9f37305c9d1d",
        "id": "bSyoJ0brQcqK"
      },
      "source": [
        "만약 하나의 열만 빼내면서 데이터프레임 자료형을 유지하고 싶다면 원소가 하나인 리스트를 써서 인덱싱하면 된다."
      ]
    },
    {
      "cell_type": "code",
      "metadata": {
        "school_cell_uuid": "98d4093da4bf47519e43e0e542bb81a7",
        "id": "ISk7cUuTQcqL"
      },
      "source": [
        "# 2010이라는 열을 반환하면서 데이터프레임 자료형을 유지\n",
        "df[[\"2010\"]]"
      ],
      "execution_count": null,
      "outputs": []
    },
    {
      "cell_type": "code",
      "metadata": {
        "school_cell_uuid": "56a3e0fac9f94d4fb44a9d0f6f0ae7c7",
        "id": "BA60x3yeQcqM"
      },
      "source": [
        "type(df[[\"2010\"]])"
      ],
      "execution_count": null,
      "outputs": []
    },
    {
      "cell_type": "code",
      "metadata": {
        "school_cell_uuid": "31990ea645a64d8fa62abd6359c7bc54",
        "id": "9RYLiqEWQcqN"
      },
      "source": [
        "# 2010이라는 열을 반환하면서 시리즈 자료형으로 변환\n",
        "df[\"2010\"]"
      ],
      "execution_count": null,
      "outputs": []
    },
    {
      "cell_type": "code",
      "metadata": {
        "school_cell_uuid": "ea3cd8cadad846929de81f636b2bceba",
        "id": "HRePSivhQcqO"
      },
      "source": [
        "type(df[\"2010\"])"
      ],
      "execution_count": null,
      "outputs": []
    },
    {
      "cell_type": "markdown",
      "metadata": {
        "school_cell_uuid": "f44ba95137cf4ea0b58d44c918772ad9",
        "id": "SwoqpH6dQcqQ"
      },
      "source": [
        "데이터프레임의 열 인덱스가 문자열 라벨을 가지고 있는 경우에는 순서를 나타내는 정수 인덱스를 열 인덱싱에 사용할 수 없다. 정수 인덱싱의 슬라이스는 뒤에서 설명하겠지만 행(row)을 인덱싱할 때 사용하므로 열을 인덱싱할 때는 쓸 수 없다. 정수 인덱스를 넣으면 `KeyError` 오류가 발생하는 것을 볼 수 있다."
      ]
    },
    {
      "cell_type": "markdown",
      "metadata": {
        "school_cell_uuid": "2976896675c342129de0cd11b6892ab3",
        "id": "HQTZHYdQQcqS"
      },
      "source": [
        "```\n",
        "df[0]\n",
        "\n",
        "...(생략)...\n",
        "Key Error 0\n",
        "```"
      ]
    },
    {
      "cell_type": "markdown",
      "metadata": {
        "school_cell_uuid": "1892bf3290f64bdc9ddb3dad2cf2ce09",
        "id": "fRNqjmtNQcqT"
      },
      "source": [
        " 다만 원래부터 문자열이 아닌 정수형 열 인덱스를 가지는 경우에는 인덱스 값으로 정수를 사용할 수 있다."
      ]
    },
    {
      "cell_type": "code",
      "metadata": {
        "id": "WbjM8vyaVc22"
      },
      "source": [
        "import numpy as np"
      ],
      "execution_count": null,
      "outputs": []
    },
    {
      "cell_type": "code",
      "metadata": {
        "school_cell_uuid": "420c2a76640549cbaab9b31f17915d2f",
        "id": "F8_qa3vbQcqU"
      },
      "source": [
        "df2 = pd.DataFrame(np.arange(12).reshape(3, 4))\n",
        "df2"
      ],
      "execution_count": null,
      "outputs": []
    },
    {
      "cell_type": "code",
      "metadata": {
        "school_cell_uuid": "d48c1f097ce548cc8e57bb36829397ab",
        "id": "AGzyCGy1QcqV"
      },
      "source": [
        "df2[2]"
      ],
      "execution_count": null,
      "outputs": []
    },
    {
      "cell_type": "code",
      "metadata": {
        "school_cell_uuid": "d48c1f097ce548cc8e57bb36829397ab",
        "id": "uCvyfB25QcqW"
      },
      "source": [
        "df2[[1, 2]]"
      ],
      "execution_count": null,
      "outputs": []
    },
    {
      "cell_type": "markdown",
      "metadata": {
        "school_cell_uuid": "5c121d8c1b444bf2bfde8690212a5f8e",
        "id": "CHEMSaiPQcqX"
      },
      "source": [
        "### 행 인덱싱"
      ]
    },
    {
      "cell_type": "markdown",
      "metadata": {
        "school_cell_uuid": "beff7c796fb3438fb9a256538fb3d527",
        "id": "edvrrEaLQcqX"
      },
      "source": [
        "만약 행 단위로 인덱싱을 하고자 하면 항상 **슬라이싱(slicing)**을 해야 한다. 인덱스의 값이 문자 라벨이면 라벨 슬라이싱도 가능하다."
      ]
    },
    {
      "cell_type": "code",
      "metadata": {
        "school_cell_uuid": "7ee64974f2364281954b9eae041c1c44",
        "id": "Hqwkc3zHQcqZ"
      },
      "source": [
        "df[:1]"
      ],
      "execution_count": null,
      "outputs": []
    },
    {
      "cell_type": "code",
      "metadata": {
        "school_cell_uuid": "c89de89ce9624abc941c3ee8587aabca",
        "id": "Se5h0hIMQcqZ"
      },
      "source": [
        "df[1:2]"
      ],
      "execution_count": null,
      "outputs": []
    },
    {
      "cell_type": "code",
      "metadata": {
        "school_cell_uuid": "0ad013c544644b9b812b297229017f4f",
        "id": "189fKGgaQcqa"
      },
      "source": [
        "df[1:3]"
      ],
      "execution_count": null,
      "outputs": []
    },
    {
      "cell_type": "code",
      "metadata": {
        "school_cell_uuid": "92ffadb5c2044bd5825ce7c52911c6b3",
        "id": "_-b7VP8lQcqb"
      },
      "source": [
        "df[\"서울\":\"부산\"]"
      ],
      "execution_count": null,
      "outputs": []
    },
    {
      "cell_type": "markdown",
      "metadata": {
        "school_cell_uuid": "af381d9b3eec4c949e934ae661bc5342",
        "id": "LERuwxgaQcqd"
      },
      "source": [
        "### 개별 데이터 인덱싱"
      ]
    },
    {
      "cell_type": "markdown",
      "metadata": {
        "school_cell_uuid": "f7f20193b17142ac802842cebc0c209e",
        "id": "ecwqeCICQcqe"
      },
      "source": [
        "데이터프레임에서 열 라벨로 시리즈를 인덱싱하면 시리즈가 된다. 이 시리즈를 다시 행 라벨로 인덱싱하면 개별 데이터가 나온다."
      ]
    },
    {
      "cell_type": "code",
      "metadata": {
        "school_cell_uuid": "433817f68392487099e06349875af087",
        "id": "0nc-85H1Qcqf"
      },
      "source": [
        "df[\"2015\"][\"서울\"]"
      ],
      "execution_count": null,
      "outputs": []
    },
    {
      "cell_type": "markdown",
      "metadata": {
        "id": "3V9sI4z8Qcqh"
      },
      "source": [
        "지금까지의 데이터프레임 인덱싱 방법을 정리하면 다음과 같다."
      ]
    },
    {
      "cell_type": "markdown",
      "metadata": {
        "id": "2BorQ-WWQcqh"
      },
      "source": [
        "| 인덱싱 값 | 가능 | 결과 | 자료형 | 추가사항 |\n",
        "|-|-|-|-|-|\n",
        "| 라벨 | O | 열 | 시리즈 | |\n",
        "| 라벨 리스트 | O | 열 | 데이터프레임 | |\n",
        "| 인덱스데이터(정수) | X |  |  | 열 라벨이 정수인 경우에는 라벨 인덱싱으로 인정 |\n",
        "| 인덱스데이터(정수) 슬라이스 | O | 행 | 데이터프레임 | |\n"
      ]
    },
    {
      "cell_type": "markdown",
      "metadata": {
        "bootstrap": {
          "panel": {
            "class": "panel-default"
          }
        },
        "school_cell_uuid": "1adc8742e99c42419d8ad2f539ef362c",
        "id": "G8hVsRAaQcqi"
      },
      "source": [
        "**<스스로> 연습문제**\n",
        "\n",
        "````{admonition} 연습 문제 4.1.3\n",
        "\n",
        "다음 데이터프레임에서 지정하는 데이터를 뽑아내거나 처리하라.\n",
        "\n",
        "```\n",
        "data = {\n",
        "    \"국어\": [80, 90, 70, 30],\n",
        "    \"영어\": [90, 70, 60, 40],\n",
        "    \"수학\": [90, 60, 80, 70],\n",
        "}\n",
        "columns = [\"국어\", \"영어\", \"수학\"]\n",
        "index = [\"춘향\", \"몽룡\", \"향단\", \"방자\"]\n",
        "df = pd.DataFrame(data, index=index, columns=columns)\n",
        "```\n",
        "\n",
        "(1) 모든 학생의 수학 점수를 시리즈로 나타낸다.\n",
        "\n",
        "(2) 모든 학생의 국어와 영어 점수를 데이터 프레임으로 나타낸다.\n",
        "\n",
        "(3) 모든 학생의 각 과목 평균 점수를 새로운 열로 추가한다.\n",
        "\n",
        "(4) 방자의 영어 점수를 80점으로 수정하고 평균 점수도 다시 계산한다.\n",
        "\n",
        "(5) 춘향의 점수를 데이터프레임으로 나타낸다.\n",
        "\n",
        "(6) 향단의 점수를 시리즈로 나타낸다.\n",
        "\n",
        "````"
      ]
    }
  ]
}