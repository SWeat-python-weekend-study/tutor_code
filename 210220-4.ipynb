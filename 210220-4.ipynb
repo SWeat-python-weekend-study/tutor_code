{
  "nbformat": 4,
  "nbformat_minor": 0,
  "metadata": {
    "kernelspec": {
      "display_name": "Python 3",
      "language": "python",
      "name": "python3"
    },
    "language_info": {
      "codemirror_mode": {
        "name": "ipython",
        "version": 3
      },
      "file_extension": ".py",
      "mimetype": "text/x-python",
      "name": "python",
      "nbconvert_exporter": "python",
      "pygments_lexer": "ipython3",
      "version": "3.8.3"
    },
    "latex_envs": {
      "LaTeX_envs_menu_present": true,
      "autoclose": false,
      "autocomplete": true,
      "bibliofile": "biblio.bib",
      "cite_by": "apalike",
      "current_citInitial": 1,
      "eqLabelWithNumbers": true,
      "eqNumInitial": 1,
      "hotkeys": {
        "equation": "Ctrl-E",
        "itemize": "Ctrl-I"
      },
      "labels_anchors": false,
      "latex_user_defs": false,
      "report_style_numbering": false,
      "user_envs_cfg": false
    },
    "colab": {
      "name": "2-3.기술통계.ipynb",
      "provenance": [],
      "include_colab_link": true
    }
  },
  "cells": [
    {
      "cell_type": "markdown",
      "metadata": {
        "id": "view-in-github",
        "colab_type": "text"
      },
      "source": [
        "<a href=\"https://colab.research.google.com/github/SWeat-python-weekend-study/tutor_code/blob/lesson2-1/210220-4.ipynb\" target=\"_parent\"><img src=\"https://colab.research.google.com/assets/colab-badge.svg\" alt=\"Open In Colab\"/></a>"
      ]
    },
    {
      "cell_type": "markdown",
      "metadata": {
        "school_cell_uuid": "f1e120d9f1574e31aa1b43d5d7530b1e",
        "id": "cPlB0xj9lLCg"
      },
      "source": [
        "# 2-3. 기술 통계"
      ]
    },
    {
      "cell_type": "markdown",
      "metadata": {
        "id": "dskMJh0GlLCq"
      },
      "source": [
        "```{margin}\n",
        "기술 통계\n",
        "```"
      ]
    },
    {
      "cell_type": "markdown",
      "metadata": {
        "school_cell_uuid": "e0cf86dc37194b9caee4bb8b1d0c2478",
        "id": "Mb5qI4MdlLCs"
      },
      "source": [
        "넘파이는 다음과 같은 데이터 집합에 대해 간단한 통계를 계산하는 함수를 제공한다. 이러한 값들을 통틀어 **기술 통계(descriptive statistics)**라고 한다.\n",
        "\n",
        "* 데이터의 개수(count)\n",
        "* 평균(mean, average)\n",
        "* 분산(variance)\n",
        "* 표준 편차(standard deviation)\n",
        "* 최댓값(maximum)\n",
        "* 최솟값(minimum)\n",
        "* 중앙값(median)\n",
        "* 사분위수(quartile)"
      ]
    },
    {
      "cell_type": "markdown",
      "metadata": {
        "school_cell_uuid": "5007a8ec08214ee9b2e5d84dc6628678",
        "id": "bFh6xhGFlLCs"
      },
      "source": [
        "예를 들어 다음과 같은 데이터 $x$가 있다고 하자.\n",
        "\n",
        "$$\n",
        "x = \\{\n",
        "18,   5,  10,  23,  19,  -8,  10,   0,   0,   5,   2,  15,   8,\n",
        "2,   5,   4,  15,  -1,   4,  -7, -24,   7,   9,  -6,  23, -13\n",
        "\\}\n",
        "$$\n",
        "             \n",
        "\n",
        "$x$를 이루는 숫자 하나하나를 수학 기호로는 $x_1, x_2, \\cdots, x_N$처럼 표시한다. 위 예에서 $x_1 = 18$, $x_2 = 5$이다.\n",
        "\n",
        "넘파이에서는 이러한 데이터를 1차원 배열로 구현한다."
      ]
    },
    {
      "cell_type": "code",
      "metadata": {
        "id": "xu7_jcVtlX8l"
      },
      "source": [
        "import numpy as np"
      ],
      "execution_count": 1,
      "outputs": []
    },
    {
      "cell_type": "code",
      "metadata": {
        "school_cell_uuid": "46bb43f2d2924332ab0f3f09c460c32f",
        "id": "oh4taynPlLCt"
      },
      "source": [
        "x = np.array([18,   5,  10,  23,  19,  -8,  10,   0,   0,   5,   2,  15,   8,\n",
        "              2,   5,   4,  15,  -1,   4,  -7, -24,   7,   9,  -6,  23, -13])"
      ],
      "execution_count": 2,
      "outputs": []
    },
    {
      "cell_type": "markdown",
      "metadata": {
        "school_cell_uuid": "584cc6f1767f42049e5c45354c6349c4",
        "id": "ya7mlQrilLCv"
      },
      "source": [
        "### 데이터의 개수"
      ]
    },
    {
      "cell_type": "markdown",
      "metadata": {
        "school_cell_uuid": "3afcea2fe96f4df4a325ae8cf0962dff",
        "id": "5Cv7MBFOlLCv"
      },
      "source": [
        "데이터의 개수는 `len` 명령으로 구할 수 있다."
      ]
    },
    {
      "cell_type": "code",
      "metadata": {
        "school_cell_uuid": "6e12faa9857c455aa84f2cea6b58a036",
        "id": "iR_ZophalLCw",
        "colab": {
          "base_uri": "https://localhost:8080/"
        },
        "outputId": "eee20ac2-8a89-4aa4-9b58-b475ff0814fa"
      },
      "source": [
        "len(x)  # 갯수"
      ],
      "execution_count": 3,
      "outputs": [
        {
          "output_type": "execute_result",
          "data": {
            "text/plain": [
              "26"
            ]
          },
          "metadata": {
            "tags": []
          },
          "execution_count": 3
        }
      ]
    },
    {
      "cell_type": "markdown",
      "metadata": {
        "school_cell_uuid": "bafea7976594466d8a34b0623bf48a88",
        "id": "H1AznyBVlLCy"
      },
      "source": [
        "### 표본 평균"
      ]
    },
    {
      "cell_type": "markdown",
      "metadata": {
        "school_cell_uuid": "2e4d88614dc24a7a8262f665077ae369",
        "id": "uFkUrrQHlLCy"
      },
      "source": [
        "평균을 통계용어로는 **표본 평균**(sample average, sample mean)이라고 한다. $x$ 데이터에 대한 표본 평균은 $\\bar{x}$라고 표시하며 다음과 같이 계산한다. 이 식에서 $N$은 데이터의 개수이다.\n",
        "\n",
        "$$ \\bar{x} = \\dfrac{1}{N}\\sum_{i=1}^N x_i $$"
      ]
    },
    {
      "cell_type": "code",
      "metadata": {
        "school_cell_uuid": "b34bb1912f7c476f82c3e0fd3d6ae5b0",
        "id": "uH-75ykPlLCz",
        "colab": {
          "base_uri": "https://localhost:8080/"
        },
        "outputId": "c34bf265-76b0-4eb4-bb5a-f0d2057df1ec"
      },
      "source": [
        "np.mean(x)  # 평균"
      ],
      "execution_count": 4,
      "outputs": [
        {
          "output_type": "execute_result",
          "data": {
            "text/plain": [
              "4.8076923076923075"
            ]
          },
          "metadata": {
            "tags": []
          },
          "execution_count": 4
        }
      ]
    },
    {
      "cell_type": "markdown",
      "metadata": {
        "school_cell_uuid": "4db8c547c72c40d18053e301146628a4",
        "id": "ApqTtUl2lLCz"
      },
      "source": [
        "### 표본 분산"
      ]
    },
    {
      "cell_type": "markdown",
      "metadata": {
        "school_cell_uuid": "2e4d88614dc24a7a8262f665077ae369",
        "id": "8nWtlkgMlLCz"
      },
      "source": [
        "표본 분산(sample variance)은 데이터와 표본 평균간의 거리의 제곱의 평균이다. 표본 분산이 작으면 데이터가 모여있는 것이고 크면 흩어져 있는 것이다. 수학 기호로는 $s^2$이라고 표시하며 다음과 같이 계산한다.\n",
        "\n",
        "$$ s^2 = \\dfrac{1}{N}\\sum_{i=1}^N (x_i - \\bar{x})^2 $$"
      ]
    },
    {
      "cell_type": "code",
      "metadata": {
        "school_cell_uuid": "1ffac705a908414da102ec73b6f8350d",
        "id": "S5-lkYtllLC0",
        "colab": {
          "base_uri": "https://localhost:8080/"
        },
        "outputId": "a068f18d-4b6b-4137-9f1a-6d6634aff7d0"
      },
      "source": [
        "np.var(x)  # 분산"
      ],
      "execution_count": 6,
      "outputs": [
        {
          "output_type": "execute_result",
          "data": {
            "text/plain": [
              "115.23224852071006"
            ]
          },
          "metadata": {
            "tags": []
          },
          "execution_count": 6
        }
      ]
    },
    {
      "cell_type": "code",
      "metadata": {
        "school_cell_uuid": "1ffac705a908414da102ec73b6f8350d",
        "id": "y0dsmSk_lLC0",
        "colab": {
          "base_uri": "https://localhost:8080/"
        },
        "outputId": "9e855ee5-7eea-4e5a-9232-9c793211f939"
      },
      "source": [
        "np.var(x, ddof=1)  # 비편향 분산. 추후 공부하게 된다."
      ],
      "execution_count": 7,
      "outputs": [
        {
          "output_type": "execute_result",
          "data": {
            "text/plain": [
              "119.84153846153846"
            ]
          },
          "metadata": {
            "tags": []
          },
          "execution_count": 7
        }
      ]
    },
    {
      "cell_type": "markdown",
      "metadata": {
        "school_cell_uuid": "4bbc3f5d73024b729375127f82265a17",
        "id": "s2iMp0IRlLC0"
      },
      "source": [
        "### 표본 표준편차"
      ]
    },
    {
      "cell_type": "markdown",
      "metadata": {
        "school_cell_uuid": "2e4d88614dc24a7a8262f665077ae369",
        "id": "KZjDATUglLC1"
      },
      "source": [
        "표본 표준편차(sample standard variance)는 표본 분산의 양의 제곱근 값이다. $s$이라고 표시한다.\n",
        "\n",
        "$$ s = \\sqrt{s^2} $$"
      ]
    },
    {
      "cell_type": "code",
      "metadata": {
        "school_cell_uuid": "34435c8883fc4edabe7355a6b57b9643",
        "id": "y9yIQy9alLC1",
        "colab": {
          "base_uri": "https://localhost:8080/"
        },
        "outputId": "fa339f52-ffb5-444b-c7e9-bc6e04cf0be0"
      },
      "source": [
        "np.std(x)  # 표준 편차"
      ],
      "execution_count": 8,
      "outputs": [
        {
          "output_type": "execute_result",
          "data": {
            "text/plain": [
              "10.734628476137871"
            ]
          },
          "metadata": {
            "tags": []
          },
          "execution_count": 8
        }
      ]
    },
    {
      "cell_type": "markdown",
      "metadata": {
        "school_cell_uuid": "05547e99bba14b17987949e87e01810f",
        "id": "h3c1OhyklLC2"
      },
      "source": [
        "### 최댓값과 최솟값"
      ]
    },
    {
      "cell_type": "markdown",
      "metadata": {
        "school_cell_uuid": "2e4d88614dc24a7a8262f665077ae369",
        "id": "6zkHUEX0lLC2"
      },
      "source": [
        "최댓값(maximum)은 데이터 중에서 가장 큰 값을, 최솟값(minimum)은 가장 작은 값을 의미한다."
      ]
    },
    {
      "cell_type": "code",
      "metadata": {
        "school_cell_uuid": "04c24da8c29441bb9815be7eec10f647",
        "id": "gf8MuhV-lLC2",
        "colab": {
          "base_uri": "https://localhost:8080/"
        },
        "outputId": "2e36423d-6063-4af3-f250-3e7ca05c04b0"
      },
      "source": [
        "np.max(x)  # 최댓값"
      ],
      "execution_count": 9,
      "outputs": [
        {
          "output_type": "execute_result",
          "data": {
            "text/plain": [
              "23"
            ]
          },
          "metadata": {
            "tags": []
          },
          "execution_count": 9
        }
      ]
    },
    {
      "cell_type": "code",
      "metadata": {
        "school_cell_uuid": "c92a5db3daca4040a149ab4d286b1ff5",
        "id": "_4ga4HuElLC3",
        "colab": {
          "base_uri": "https://localhost:8080/"
        },
        "outputId": "ae768c7c-c9b9-4c7d-9674-a18f20809068"
      },
      "source": [
        "np.min(x)  # 최솟값"
      ],
      "execution_count": 10,
      "outputs": [
        {
          "output_type": "execute_result",
          "data": {
            "text/plain": [
              "-24"
            ]
          },
          "metadata": {
            "tags": []
          },
          "execution_count": 10
        }
      ]
    },
    {
      "cell_type": "markdown",
      "metadata": {
        "school_cell_uuid": "7f70258fd789484a9579bd76794b16a9",
        "id": "eEmJLhzxlLC3"
      },
      "source": [
        "### 중앙값"
      ]
    },
    {
      "cell_type": "markdown",
      "metadata": {
        "school_cell_uuid": "2e4d88614dc24a7a8262f665077ae369",
        "id": "JXsDcjNXlLC3"
      },
      "source": [
        "중앙값(median)은 데이터를 크기대로 정렬하였을 때 가장 가운데에 있는 수를 말한다. 만약 데이터의 수가 짝수이면 가장 가운데에 있는 두 수의 평균을 사용한다."
      ]
    },
    {
      "cell_type": "code",
      "metadata": {
        "school_cell_uuid": "e1fa96e6ed7442bc9583e47fd911f3e4",
        "id": "RKtyu4dIlLC4",
        "colab": {
          "base_uri": "https://localhost:8080/"
        },
        "outputId": "36bdf64b-ea2f-41df-df83-b6fec32af934"
      },
      "source": [
        "np.median(x)  # 중앙값"
      ],
      "execution_count": 11,
      "outputs": [
        {
          "output_type": "execute_result",
          "data": {
            "text/plain": [
              "5.0"
            ]
          },
          "metadata": {
            "tags": []
          },
          "execution_count": 11
        }
      ]
    },
    {
      "cell_type": "markdown",
      "metadata": {
        "school_cell_uuid": "58a28972d7384333b0319b43f1735892",
        "id": "lznMWNFHlLC5"
      },
      "source": [
        "### 사분위수"
      ]
    },
    {
      "cell_type": "markdown",
      "metadata": {
        "school_cell_uuid": "ce4db8b11cb54285b112ccc8bd6124d8",
        "id": "Fl6171IUlLC6"
      },
      "source": [
        "사분위수(quartile)는 데이터를 가장 작은 수부터 가장 큰 수까지 크기가 커지는 순서대로 정렬하였을 때 1/4, 2/4, 3/4 위치에 있는 수를 말한다. 각각 1사분위수, 2사분위수, 3사분위수라고 한다. 1/4의 위치란 전체 데이터의 수가 만약 100개이면 25번째 순서, 즉 하위 25%를 말한다. 따라서 2사분위수는 중앙값과 같다. \n",
        "\n",
        "때로는 위치를 1/100 단위로 나눈 백분위수(percentile)을 사용하기도 한다. 1사분위수는 25% 백분위수와 같다."
      ]
    },
    {
      "cell_type": "code",
      "metadata": {
        "school_cell_uuid": "64bb2071eff44538b8ec961b89ae7e18",
        "id": "WtFNj5_5lLC6",
        "colab": {
          "base_uri": "https://localhost:8080/"
        },
        "outputId": "2e75fb68-7e74-4c3d-d38d-f4b26816848b"
      },
      "source": [
        "np.percentile(x, 0)  # 최소값"
      ],
      "execution_count": 12,
      "outputs": [
        {
          "output_type": "execute_result",
          "data": {
            "text/plain": [
              "-24.0"
            ]
          },
          "metadata": {
            "tags": []
          },
          "execution_count": 12
        }
      ]
    },
    {
      "cell_type": "code",
      "metadata": {
        "school_cell_uuid": "64bb2071eff44538b8ec961b89ae7e18",
        "id": "xpwx8bpolLC7",
        "colab": {
          "base_uri": "https://localhost:8080/"
        },
        "outputId": "3f6afcc9-a5ea-4e48-d95d-121959d152f1"
      },
      "source": [
        "np.percentile(x, 25)  # 1사분위 수"
      ],
      "execution_count": 13,
      "outputs": [
        {
          "output_type": "execute_result",
          "data": {
            "text/plain": [
              "0.0"
            ]
          },
          "metadata": {
            "tags": []
          },
          "execution_count": 13
        }
      ]
    },
    {
      "cell_type": "code",
      "metadata": {
        "school_cell_uuid": "cda69de008b44a9e9fdbd366173c1a7c",
        "id": "1gXgFKOvlLC7",
        "colab": {
          "base_uri": "https://localhost:8080/"
        },
        "outputId": "a2dcc0f9-a822-4394-e081-479692f041ad"
      },
      "source": [
        "np.percentile(x, 50)  # 2사분위 수"
      ],
      "execution_count": 14,
      "outputs": [
        {
          "output_type": "execute_result",
          "data": {
            "text/plain": [
              "5.0"
            ]
          },
          "metadata": {
            "tags": []
          },
          "execution_count": 14
        }
      ]
    },
    {
      "cell_type": "code",
      "metadata": {
        "school_cell_uuid": "3a6242f292674da499c6056b35ae0256",
        "id": "7iysqSPmlLC7",
        "colab": {
          "base_uri": "https://localhost:8080/"
        },
        "outputId": "cccf9567-d9d3-4c1d-d37b-eec6acb042ba"
      },
      "source": [
        "np.percentile(x, 75)  # 3사분위 수"
      ],
      "execution_count": 15,
      "outputs": [
        {
          "output_type": "execute_result",
          "data": {
            "text/plain": [
              "10.0"
            ]
          },
          "metadata": {
            "tags": []
          },
          "execution_count": 15
        }
      ]
    },
    {
      "cell_type": "code",
      "metadata": {
        "school_cell_uuid": "3a6242f292674da499c6056b35ae0256",
        "id": "IRa1HGTclLC8",
        "colab": {
          "base_uri": "https://localhost:8080/"
        },
        "outputId": "6f242170-f52b-4188-9cdb-bc2308d5d2f3"
      },
      "source": [
        "np.percentile(x, 100)  # 최댓값"
      ],
      "execution_count": 16,
      "outputs": [
        {
          "output_type": "execute_result",
          "data": {
            "text/plain": [
              "23.0"
            ]
          },
          "metadata": {
            "tags": []
          },
          "execution_count": 16
        }
      ]
    },
    {
      "cell_type": "markdown",
      "metadata": {
        "id": "fcuJ0FNus4Dh"
      },
      "source": [
        "# 2-4. 랜덤 함수\r\n",
        "- 난수(random number)"
      ]
    },
    {
      "cell_type": "code",
      "metadata": {
        "id": "rSr-585gtRON"
      },
      "source": [
        "import numpy as np"
      ],
      "execution_count": 18,
      "outputs": []
    },
    {
      "cell_type": "code",
      "metadata": {
        "id": "1GJDrek0s7Ja"
      },
      "source": [
        "np.random.seed(0) # 랜덤 seed 지정"
      ],
      "execution_count": 19,
      "outputs": []
    },
    {
      "cell_type": "code",
      "metadata": {
        "id": "LO6mwoz8tKat",
        "colab": {
          "base_uri": "https://localhost:8080/"
        },
        "outputId": "0b29cd27-758c-4862-942a-d865b15f5ce0"
      },
      "source": [
        "np.random.randint(0, 1000) # 0~1000 사이 난수 생성"
      ],
      "execution_count": 20,
      "outputs": [
        {
          "output_type": "execute_result",
          "data": {
            "text/plain": [
              "684"
            ]
          },
          "metadata": {
            "tags": []
          },
          "execution_count": 20
        }
      ]
    },
    {
      "cell_type": "code",
      "metadata": {
        "id": "zgamTENitXDc",
        "colab": {
          "base_uri": "https://localhost:8080/"
        },
        "outputId": "a3bfbeaf-43e7-439f-b992-fe5ff19a69a3"
      },
      "source": [
        "np.random.rand(5) #5 개의 난수 생성"
      ],
      "execution_count": 21,
      "outputs": [
        {
          "output_type": "execute_result",
          "data": {
            "text/plain": [
              "array([0.59284462, 0.84426575, 0.85794562, 0.84725174, 0.6235637 ])"
            ]
          },
          "metadata": {
            "tags": []
          },
          "execution_count": 21
        }
      ]
    },
    {
      "cell_type": "code",
      "metadata": {
        "id": "ziAMYcXCtcjK",
        "colab": {
          "base_uri": "https://localhost:8080/"
        },
        "outputId": "934f1d5c-8082-43db-dbf4-35d2b29973fc"
      },
      "source": [
        "np.random.rand(3,5) #3x5 행렬 형태의 난수 생성"
      ],
      "execution_count": 22,
      "outputs": [
        {
          "output_type": "execute_result",
          "data": {
            "text/plain": [
              "array([[0.38438171, 0.29753461, 0.05671298, 0.27265629, 0.47766512],\n",
              "       [0.81216873, 0.47997717, 0.3927848 , 0.83607876, 0.33739616],\n",
              "       [0.64817187, 0.36824154, 0.95715516, 0.14035078, 0.87008726]])"
            ]
          },
          "metadata": {
            "tags": []
          },
          "execution_count": 22
        }
      ]
    },
    {
      "cell_type": "code",
      "metadata": {
        "id": "LXAE7eQXtg8k",
        "colab": {
          "base_uri": "https://localhost:8080/"
        },
        "outputId": "93638d9a-560d-4dd4-8821-f44095d7c674"
      },
      "source": [
        "x = np.arange(10) # 0~9 까지 배열 생성\r\n",
        "x"
      ],
      "execution_count": 23,
      "outputs": [
        {
          "output_type": "execute_result",
          "data": {
            "text/plain": [
              "array([0, 1, 2, 3, 4, 5, 6, 7, 8, 9])"
            ]
          },
          "metadata": {
            "tags": []
          },
          "execution_count": 23
        }
      ]
    },
    {
      "cell_type": "code",
      "metadata": {
        "id": "Y4lhYkJItnk7",
        "colab": {
          "base_uri": "https://localhost:8080/"
        },
        "outputId": "d2d34590-bd7e-4b66-9a27-6ce46277efce"
      },
      "source": [
        "np.random.shuffle(x) # 배열 x 의 순서를 무작위로 변경\r\n",
        "x"
      ],
      "execution_count": 24,
      "outputs": [
        {
          "output_type": "execute_result",
          "data": {
            "text/plain": [
              "array([0, 7, 2, 4, 6, 5, 9, 1, 8, 3])"
            ]
          },
          "metadata": {
            "tags": []
          },
          "execution_count": 24
        }
      ]
    },
    {
      "cell_type": "markdown",
      "metadata": {
        "id": "TwwGcV4KuRK8"
      },
      "source": [
        "# 2-5. 데이터 샘플링\r\n",
        "- 샘플링(sampling): 존재하는 데이터 집합에서 일부를 무작위로 선택\r\n"
      ]
    },
    {
      "cell_type": "code",
      "metadata": {
        "id": "AsAg_elauZCH",
        "colab": {
          "base_uri": "https://localhost:8080/"
        },
        "outputId": "79c71641-07be-4609-cde7-fee45fb14cc3"
      },
      "source": [
        "x = np.random.choice(10, 10, replace=False) # shuffle 기능과 동일\r\n",
        "x"
      ],
      "execution_count": 25,
      "outputs": [
        {
          "output_type": "execute_result",
          "data": {
            "text/plain": [
              "array([3, 6, 4, 5, 2, 9, 7, 8, 1, 0])"
            ]
          },
          "metadata": {
            "tags": []
          },
          "execution_count": 25
        }
      ]
    },
    {
      "cell_type": "code",
      "metadata": {
        "id": "ssfBvdMuuer4",
        "colab": {
          "base_uri": "https://localhost:8080/"
        },
        "outputId": "f0a70e58-edb8-42de-eeba-ce152cb8169e"
      },
      "source": [
        "x = np.random.choice(x, 5, replace=True) # 5 개 샘플링 , 중복 허용\r\n",
        "x"
      ],
      "execution_count": 26,
      "outputs": [
        {
          "output_type": "execute_result",
          "data": {
            "text/plain": [
              "array([4, 8, 4, 3, 3])"
            ]
          },
          "metadata": {
            "tags": []
          },
          "execution_count": 26
        }
      ]
    },
    {
      "cell_type": "code",
      "metadata": {
        "id": "CGG7vOvFujow",
        "colab": {
          "base_uri": "https://localhost:8080/"
        },
        "outputId": "4ad721d6-379a-4556-a113-93a078b2992d"
      },
      "source": [
        "x = np.random.choice(4, 3, replace=False, p=[0.4, 0.2, 0, 0.4]) # 선택 확률 별도 지정\r\n",
        "x"
      ],
      "execution_count": 27,
      "outputs": [
        {
          "output_type": "execute_result",
          "data": {
            "text/plain": [
              "array([0, 3, 1])"
            ]
          },
          "metadata": {
            "tags": []
          },
          "execution_count": 27
        }
      ]
    },
    {
      "cell_type": "markdown",
      "metadata": {
        "id": "a3LOiMRAusQ_"
      },
      "source": [
        "# 2-6. 비교 연산\r\n"
      ]
    },
    {
      "cell_type": "code",
      "metadata": {
        "id": "-2wQmiX1uxg6",
        "colab": {
          "base_uri": "https://localhost:8080/"
        },
        "outputId": "b5b26437-b5b5-4f0f-8deb-aa6d4f869e8b"
      },
      "source": [
        "f = np.random.rand(3,4)\r\n",
        "f"
      ],
      "execution_count": 28,
      "outputs": [
        {
          "output_type": "execute_result",
          "data": {
            "text/plain": [
              "array([[0.61306346, 0.90234858, 0.09928035, 0.96980907],\n",
              "       [0.65314004, 0.17090959, 0.35815217, 0.75068614],\n",
              "       [0.60783067, 0.32504723, 0.03842543, 0.63427406]])"
            ]
          },
          "metadata": {
            "tags": []
          },
          "execution_count": 28
        }
      ]
    },
    {
      "cell_type": "code",
      "metadata": {
        "id": "GmR_h2yRu1xm",
        "colab": {
          "base_uri": "https://localhost:8080/"
        },
        "outputId": "ab34da9f-b386-40b2-fee3-bfad78df7c59"
      },
      "source": [
        "tf = f > 0.3\r\n",
        "tf"
      ],
      "execution_count": 29,
      "outputs": [
        {
          "output_type": "execute_result",
          "data": {
            "text/plain": [
              "array([[ True,  True, False,  True],\n",
              "       [ True, False,  True,  True],\n",
              "       [ True,  True, False,  True]])"
            ]
          },
          "metadata": {
            "tags": []
          },
          "execution_count": 29
        }
      ]
    },
    {
      "cell_type": "code",
      "metadata": {
        "id": "Izyo7VWXu5rX",
        "colab": {
          "base_uri": "https://localhost:8080/"
        },
        "outputId": "2439c8f3-ba30-4e53-fd8b-bdb89054ac1e"
      },
      "source": [
        "f[ f > 0.3 ] = 1\r\n",
        "f"
      ],
      "execution_count": 30,
      "outputs": [
        {
          "output_type": "execute_result",
          "data": {
            "text/plain": [
              "array([[1.        , 1.        , 0.09928035, 1.        ],\n",
              "       [1.        , 0.17090959, 1.        , 1.        ],\n",
              "       [1.        , 1.        , 0.03842543, 1.        ]])"
            ]
          },
          "metadata": {
            "tags": []
          },
          "execution_count": 30
        }
      ]
    },
    {
      "cell_type": "markdown",
      "metadata": {
        "id": "ylizeLcSvJRZ"
      },
      "source": [
        "# 2-7. 유니버설 함수\r\n",
        "- 슬라이드 참고\r\n",
        "- 코드 작성하기"
      ]
    }
  ]
}