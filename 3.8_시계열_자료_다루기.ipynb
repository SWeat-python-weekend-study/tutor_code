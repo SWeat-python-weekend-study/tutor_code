{
  "nbformat": 4,
  "nbformat_minor": 0,
  "metadata": {
    "kernelspec": {
      "display_name": "Python 3",
      "language": "python",
      "name": "python3"
    },
    "language_info": {
      "codemirror_mode": {
        "name": "ipython",
        "version": 3
      },
      "file_extension": ".py",
      "mimetype": "text/x-python",
      "name": "python",
      "nbconvert_exporter": "python",
      "pygments_lexer": "ipython3",
      "version": "3.7.6"
    },
    "latex_envs": {
      "LaTeX_envs_menu_present": true,
      "autoclose": false,
      "autocomplete": true,
      "bibliofile": "biblio.bib",
      "cite_by": "apalike",
      "current_citInitial": 1,
      "eqLabelWithNumbers": true,
      "eqNumInitial": 1,
      "hotkeys": {
        "equation": "Ctrl-E",
        "itemize": "Ctrl-I"
      },
      "labels_anchors": false,
      "latex_user_defs": false,
      "report_style_numbering": false,
      "user_envs_cfg": false
    },
    "colab": {
      "name": "3.8 시계열 자료 다루기.ipynb",
      "provenance": [],
      "include_colab_link": true
    }
  },
  "cells": [
    {
      "cell_type": "markdown",
      "metadata": {
        "id": "view-in-github",
        "colab_type": "text"
      },
      "source": [
        "<a href=\"https://colab.research.google.com/github/SWeat-python-weekend-study/tutor_code/blob/lesson3-2/3.8_%EC%8B%9C%EA%B3%84%EC%97%B4_%EC%9E%90%EB%A3%8C_%EB%8B%A4%EB%A3%A8%EA%B8%B0.ipynb\" target=\"_parent\"><img src=\"https://colab.research.google.com/assets/colab-badge.svg\" alt=\"Open In Colab\"/></a>"
      ]
    },
    {
      "cell_type": "markdown",
      "metadata": {
        "school_cell_uuid": "7d54ee7f802c45cfb71ada449384a607",
        "id": "R53XlWfAqb8o"
      },
      "source": [
        "# 3.8 시계열 자료 다루기"
      ]
    },
    {
      "cell_type": "markdown",
      "metadata": {
        "id": "4DL9laNcqb80"
      },
      "source": [
        "```{margin}\n",
        "`DatetimeIndex`\n",
        "```"
      ]
    },
    {
      "cell_type": "markdown",
      "metadata": {
        "id": "R9hMdiBTqb81"
      },
      "source": [
        "## `DatetimeIndex` 인덱스"
      ]
    },
    {
      "cell_type": "markdown",
      "metadata": {
        "school_cell_uuid": "c4ff6bd707744fd5bab97a0a48aa0e56",
        "id": "0RIarXnbqb82"
      },
      "source": [
        "**시계열 자료**는 **인덱스가 날짜 혹은 시간인 데이터**를 말한다. 판다스에서 시계열 자료를 생성하려면 인덱스를 `DatetimeIndex` 자료형으로 만들어야 한다. `DatetimeIndex`는 특정한 순간에 기록된 타임스탬프(timestamp) 형식의 시계열 자료를 다루기 위한 인덱스이다. 타임스탬프 인덱스의 라벨값이 반드시 일정한 간격일 필요는 없다."
      ]
    },
    {
      "cell_type": "markdown",
      "metadata": {
        "school_cell_uuid": "ce5fee80fb074e519168a13a7c159f09",
        "id": "A4EGhdgnqb83"
      },
      "source": [
        "`DatetimeIndex` 인덱스는 다음과 같은 보조 함수를 사용하여 생성한다.\n",
        "\n",
        "* `pd.to_datetime` 함수\n",
        "* `pd.date_range` 함수"
      ]
    },
    {
      "cell_type": "markdown",
      "metadata": {
        "id": "dVSQv9kCqb83"
      },
      "source": [
        "```{margin}\n",
        "to_datetime\n",
        "```"
      ]
    },
    {
      "cell_type": "markdown",
      "metadata": {
        "school_cell_uuid": "a4111d07ea994b7182d2010b1019281c",
        "id": "TGErho9Wqb84"
      },
      "source": [
        "`pd.to_datetime` 함수를 쓰면 날짜/시간을 나타내는 문자열을 자동으로 datetime 자료형으로 바꾼 후 `DatetimeIndex` 자료형 인덱스를 생성한다."
      ]
    },
    {
      "cell_type": "code",
      "metadata": {
        "id": "NrNxS0hbrkgV"
      },
      "source": [
        "import pandas as pd\r\n",
        "import numpy as np"
      ],
      "execution_count": null,
      "outputs": []
    },
    {
      "cell_type": "code",
      "metadata": {
        "school_cell_uuid": "37627593f6d94bbca2c637eb1df845f1",
        "id": "NxQyOkS8qb85"
      },
      "source": [
        "date_str = [\"2018, 1, 1\", \"2018, 1, 4\", \"2018, 1, 5\", \"2018, 1, 6\"]\n",
        "idx = pd.to_datetime(date_str)\n",
        "idx"
      ],
      "execution_count": null,
      "outputs": []
    },
    {
      "cell_type": "markdown",
      "metadata": {
        "school_cell_uuid": "05d388a37b0343cab334b7dbf7fa9d95",
        "id": "NpLHEPONqb88"
      },
      "source": [
        "이렇게 만들어진 인덱스를 사용하여 시리즈나 데이터프레임을 생성하면 된다."
      ]
    },
    {
      "cell_type": "code",
      "metadata": {
        "school_cell_uuid": "71e4a6adeafa4c199115489911fa9e98",
        "id": "0u0qAfO9qb89"
      },
      "source": [
        "np.random.seed(0)\n",
        "s = pd.Series(np.random.randn(4), index=idx)\n",
        "s"
      ],
      "execution_count": null,
      "outputs": []
    },
    {
      "cell_type": "markdown",
      "metadata": {
        "id": "hnIWxpYBqb8-"
      },
      "source": [
        "```{margin}\n",
        "date_range\n",
        "```"
      ]
    },
    {
      "cell_type": "markdown",
      "metadata": {
        "school_cell_uuid": "fd052091c90d4e31be6feca8cceaa90c",
        "id": "MMOOWsvkqb8-"
      },
      "source": [
        "`pd.date_range` 함수를 쓰면 모든 날짜/시간을 일일히 입력할 필요없이 시작일과 종료일 또는 시작일과 기간을 입력하면 범위 내의 인덱스를 생성해 준다."
      ]
    },
    {
      "cell_type": "code",
      "metadata": {
        "school_cell_uuid": "f9597a1a250140da93f1c16a006dc132",
        "id": "_8g00PlQqb8_"
      },
      "source": [
        "pd.date_range(\"2018-4-1\", \"2018-4-30\")"
      ],
      "execution_count": null,
      "outputs": []
    },
    {
      "cell_type": "code",
      "metadata": {
        "school_cell_uuid": "476cee21be454c8b9503c06de4a4adf3",
        "id": "gE9Qr1jZqb9A"
      },
      "source": [
        "pd.date_range(start=\"2018-4-1\", periods=30)"
      ],
      "execution_count": null,
      "outputs": []
    },
    {
      "cell_type": "markdown",
      "metadata": {
        "school_cell_uuid": "3bad3aff349649b083b4867843705dd0",
        "id": "eW1bHDgeqb9B"
      },
      "source": [
        "`freq` 인수로 특정한 날짜만 생성되도록 할 수도 있다. 많이 사용되는 `freq` 인수값은 다음과 같다.\n",
        "\n",
        "* `s`: 초\n",
        "* `T`: 분\n",
        "* `H`: 시간\n",
        "* `D`: 일(day)\n",
        "* `B`: 주말이 아닌 평일\n",
        "* `W`: 주(일요일)\n",
        "* `W-MON`: 주(월요일)\n",
        "* `M`: 각 달(month)의 마지막 날\n",
        "* `MS`: 각 달의 첫날\n",
        "* `BM`: 주말이 아닌 평일 중에서 각 달의 마지막 날\n",
        "* `BMS`: 주말이 아닌 평일 중에서 각 달의 첫날\n",
        "* `WOM-2THU`: 각 달의 두번째 목요일\n",
        "* `Q-JAN`: 각 분기의 첫달의 마지막 날\n",
        "* `Q-DEC`: 각 분기의 마지막 달의 마지막 날\n",
        "\n",
        "보다 자세한 내용은 다음 웹사이트를 참조한다.\n",
        "\n",
        "* [https://pandas.pydata.org/pandas-docs/stable/user_guide/timeseries.html#dateoffset-objects](https://pandas.pydata.org/pandas-docs/stable/user_guide/timeseries.html#dateoffset-objects)"
      ]
    },
    {
      "cell_type": "code",
      "metadata": {
        "school_cell_uuid": "6608d599e5924ed5a87525d8eca61478",
        "id": "iKBXY6G1qb9C"
      },
      "source": [
        "pd.date_range(\"2018-4-1\", \"2018-4-30\", freq=\"B\")"
      ],
      "execution_count": null,
      "outputs": []
    },
    {
      "cell_type": "code",
      "metadata": {
        "school_cell_uuid": "6cd6c97dc5054162abf7e9f9a3a3093e",
        "id": "OcOlG2D4qb9D"
      },
      "source": [
        "pd.date_range(\"2018-1-1\", \"2018-12-31\", freq=\"W\")"
      ],
      "execution_count": null,
      "outputs": []
    },
    {
      "cell_type": "code",
      "metadata": {
        "school_cell_uuid": "6cd6c97dc5054162abf7e9f9a3a3093e",
        "id": "0A0utdFuqb9D"
      },
      "source": [
        "pd.date_range(\"2018-1-1\", \"2018-12-31\", freq=\"W-MON\")"
      ],
      "execution_count": null,
      "outputs": []
    },
    {
      "cell_type": "code",
      "metadata": {
        "school_cell_uuid": "303d33432bd64ad58b63fc397dd271f5",
        "id": "__645cBWqb9F"
      },
      "source": [
        "pd.date_range(\"2018-4-1\", \"2018-12-31\", freq=\"MS\")"
      ],
      "execution_count": null,
      "outputs": []
    },
    {
      "cell_type": "code",
      "metadata": {
        "school_cell_uuid": "9e558fec73084d179fa1d643395d2a85",
        "id": "VNuPRJDnqb9G"
      },
      "source": [
        "pd.date_range(\"2018-4-1\", \"2018-12-31\", freq=\"M\")"
      ],
      "execution_count": null,
      "outputs": []
    },
    {
      "cell_type": "code",
      "metadata": {
        "school_cell_uuid": "c4952b28e6b34afda26867c79a8a0aa6",
        "id": "HpscX7jJqb9G"
      },
      "source": [
        "pd.date_range(\"2018-4-1\", \"2018-12-31\", freq=\"BMS\")"
      ],
      "execution_count": null,
      "outputs": []
    },
    {
      "cell_type": "code",
      "metadata": {
        "school_cell_uuid": "6b151f915de047bca5a6488a512d7d1c",
        "id": "lvInhqDaqb9H"
      },
      "source": [
        "pd.date_range(\"2018-4-1\", \"2018-12-31\", freq=\"BM\")"
      ],
      "execution_count": null,
      "outputs": []
    },
    {
      "cell_type": "code",
      "metadata": {
        "school_cell_uuid": "af918cf8514a47cfbfdda1663c544cec",
        "id": "6pdRy_Vdqb9I"
      },
      "source": [
        "pd.date_range(\"2018-1-1\", \"2018-12-31\", freq=\"WOM-2THU\")"
      ],
      "execution_count": null,
      "outputs": []
    },
    {
      "cell_type": "code",
      "metadata": {
        "school_cell_uuid": "c726f07103874171bedce2e22533f7a9",
        "id": "-yOhr-iAqb9I"
      },
      "source": [
        "pd.date_range(\"2018-1-1\", \"2018-12-31\", freq=\"Q-JAN\")"
      ],
      "execution_count": null,
      "outputs": []
    },
    {
      "cell_type": "code",
      "metadata": {
        "school_cell_uuid": "c726f07103874171bedce2e22533f7a9",
        "id": "vfCIs0hsqb9K"
      },
      "source": [
        "pd.date_range(\"2018-1-1\", \"2018-12-31\", freq=\"Q-DEC\")"
      ],
      "execution_count": null,
      "outputs": []
    },
    {
      "cell_type": "markdown",
      "metadata": {
        "school_cell_uuid": "6c52ae3d5ccb4f9ea14aa8673c287d85",
        "id": "YKiPr4OWqb9K"
      },
      "source": [
        "## `shift` 연산"
      ]
    },
    {
      "cell_type": "markdown",
      "metadata": {
        "school_cell_uuid": "ed3a5e938ba64f5484ea726069fa8e97",
        "id": "lWHGLuE-qb9L"
      },
      "source": [
        "시계열 데이터의 인덱스는 시간이나 날짜를 나타내기 때문에 날짜 이동 등의 다양한 연산이 가능하다. 예를 들어 `shift` 연산을 사용하면 인덱스는 그대로 두고 데이터만 이동할 수도 있다."
      ]
    },
    {
      "cell_type": "code",
      "metadata": {
        "school_cell_uuid": "7c4b915c88ee4be28a67786ceb1ff69e",
        "id": "ZXeHpHkDqb9L"
      },
      "source": [
        "np.random.seed(0)\n",
        "ts = pd.Series(np.random.randn(4), index=pd.date_range(\n",
        "    \"2018-1-1\", periods=4, freq=\"M\"))\n",
        "ts"
      ],
      "execution_count": null,
      "outputs": []
    },
    {
      "cell_type": "code",
      "metadata": {
        "school_cell_uuid": "6bce1f04b30f495f8e90b11739a7f921",
        "id": "l4Z2hbBHqb9M"
      },
      "source": [
        "ts.shift(1)"
      ],
      "execution_count": null,
      "outputs": []
    },
    {
      "cell_type": "code",
      "metadata": {
        "school_cell_uuid": "9bf7c19b851a44df95d38a9e5180baa5",
        "id": "CHT_hinDqb9N"
      },
      "source": [
        "ts.shift(-1)"
      ],
      "execution_count": null,
      "outputs": []
    },
    {
      "cell_type": "code",
      "metadata": {
        "school_cell_uuid": "bf53db50efff4a0b9ff686300dc6a1c4",
        "id": "XOyuWCTkqb9N"
      },
      "source": [
        "ts.shift(1, freq=\"M\")"
      ],
      "execution_count": null,
      "outputs": []
    },
    {
      "cell_type": "code",
      "metadata": {
        "id": "w7ubAobJqb9O"
      },
      "source": [
        "ts.shift(1, freq=\"W\")"
      ],
      "execution_count": null,
      "outputs": []
    },
    {
      "cell_type": "markdown",
      "metadata": {
        "school_cell_uuid": "770673825a1a40d0b6741808a628edfa",
        "id": "kB6iPtwGqb9P"
      },
      "source": [
        "## `resample` 연산"
      ]
    },
    {
      "cell_type": "markdown",
      "metadata": {
        "school_cell_uuid": "1c1b825db0d3484e8f778e5bb2496d10",
        "id": "Ih5-u7QXqb9P"
      },
      "source": [
        "`resample` 연산을 쓰면 시간 간격을 재조정하는 리샘플링(resampling)이 가능하다. 이 때 시간 구간이 작아지면 데이터 양이 증가한다고 해서 업-샘플링(up-sampling)이라 하고 시간 구간이 커지면 데이터 양이 감소한다고 해서 다운-샘플링(down-sampling)이라 부른다."
      ]
    },
    {
      "cell_type": "code",
      "metadata": {
        "school_cell_uuid": "c0ce7a3b53954f87abbbe4dbd23ffbd2",
        "id": "XPXxv55Wqb9P"
      },
      "source": [
        "ts = pd.Series(np.random.randn(100), index=pd.date_range(\n",
        "    \"2018-1-1\", periods=100, freq=\"D\"))\n",
        "ts.tail(20)"
      ],
      "execution_count": null,
      "outputs": []
    },
    {
      "cell_type": "markdown",
      "metadata": {
        "school_cell_uuid": "76ed6719f0974c1b9c0380feb5bec180",
        "id": "jWeW1n91qb9Q"
      },
      "source": [
        "다운-샘플링의 경우에는 원래의 데이터가 그룹으로 묶이기 때문에 그룹바이(groupby)때와 같이 그룹 연산을 해서 대표값을 구해야 한다."
      ]
    },
    {
      "cell_type": "code",
      "metadata": {
        "school_cell_uuid": "293752ebf54641fc831846a7ead19096",
        "id": "HpHM9QKKqb9R"
      },
      "source": [
        "ts.resample('W').mean()"
      ],
      "execution_count": null,
      "outputs": []
    },
    {
      "cell_type": "code",
      "metadata": {
        "school_cell_uuid": "d7c9890078004169b34a557164f129f5",
        "id": "OdgUhKp3qb9R"
      },
      "source": [
        "ts.resample('M').first()"
      ],
      "execution_count": null,
      "outputs": []
    },
    {
      "cell_type": "markdown",
      "metadata": {
        "school_cell_uuid": "12f3a566eb4c41738797e094843d0f43",
        "id": "Rn51HDc-qb9S"
      },
      "source": [
        "날짜가 아닌 시/분 단위에서는 구간위 왼쪽 한계값(가장 빠른 값)은 포함하고 오른쪽 한계값(가장 늦은 값)은 포함하지 않는다. 즉, 가장 늦은 값은 다음 구간에 포함된다. 예를 들어 10분 간격으로 구간을 만들면 10의 배수가 되는 시각은 구간의 시작점이 된다."
      ]
    },
    {
      "cell_type": "code",
      "metadata": {
        "school_cell_uuid": "be97af4119bd46d69d249294de2dba1c",
        "id": "FfyGmFm7qb9T"
      },
      "source": [
        "ts = pd.Series(np.random.randn(60), index=pd.date_range(\n",
        "    \"2018-1-1\", periods=60, freq=\"T\"))\n",
        "ts.head(20)"
      ],
      "execution_count": null,
      "outputs": []
    },
    {
      "cell_type": "code",
      "metadata": {
        "school_cell_uuid": "9080aeb351774c32923d54a62b0b9340",
        "id": "49OQsHtsqb9T"
      },
      "source": [
        "ts.resample('10T').sum()"
      ],
      "execution_count": null,
      "outputs": []
    },
    {
      "cell_type": "markdown",
      "metadata": {
        "school_cell_uuid": "d56640fdc6454a4ab6fc13d6037ef192",
        "id": "UM46GgxIqb9U"
      },
      "source": [
        "왼쪽이 아니라 오른쪽 한계값을 구간에 포함하려면 `closed=\"right\"` 인수를 사용한다. 이 때는 10의 배수가 되는 시각이 앞 구간에 포함된다."
      ]
    },
    {
      "cell_type": "code",
      "metadata": {
        "school_cell_uuid": "6b979c1732e947d2a6b4f210a8acd1f7",
        "id": "lFOavJUtqb9V"
      },
      "source": [
        "ts.resample('10T', closed=\"right\").sum()"
      ],
      "execution_count": null,
      "outputs": []
    },
    {
      "cell_type": "markdown",
      "metadata": {
        "school_cell_uuid": "f941fd4732304035af2977ec9164f5a2",
        "id": "x9ilp_hYqb9V"
      },
      "source": [
        "`ohlc` 메서드는 구간의 시고저종(open, high, low, close)값을 구한다."
      ]
    },
    {
      "cell_type": "code",
      "metadata": {
        "school_cell_uuid": "07e0baad82574cf98d4c79a68b43e41f",
        "id": "XSrKB7QQqb9W"
      },
      "source": [
        "ts.resample('5T').ohlc()"
      ],
      "execution_count": null,
      "outputs": []
    },
    {
      "cell_type": "markdown",
      "metadata": {
        "school_cell_uuid": "5b4fb3fee379420e83812348e7d74b14",
        "id": "vV9gbqr1qb9X"
      },
      "source": [
        "업-샘플링의 경우에는 실제로 존재하지 않는 데이터를 만들어야 한다. 이 때는 앞에서 나온 데이터를 뒤에서 그대로 쓰는 forward filling 방식과 뒤에서 나올 데이터를 앞에서 미리 쓰는 backward filling 방식을 사용할 수 있다. 각각 `ffill`, `bfill` 메서드를 이용한다."
      ]
    },
    {
      "cell_type": "code",
      "metadata": {
        "school_cell_uuid": "4e4dfa87aaa84d9fac24a26a07c56c0f",
        "id": "zUtHVSAuqb9Y"
      },
      "source": [
        "ts.resample('30s').ffill().head(20)"
      ],
      "execution_count": null,
      "outputs": []
    },
    {
      "cell_type": "code",
      "metadata": {
        "school_cell_uuid": "e5d35e6fc62b455a97fc164c48a13489",
        "id": "Bz4lJg2pqb9Y"
      },
      "source": [
        "ts.resample('30s').bfill().head(20)"
      ],
      "execution_count": null,
      "outputs": []
    },
    {
      "cell_type": "markdown",
      "metadata": {
        "id": "FuI1P1FIqb9Z"
      },
      "source": [
        "## `dt` 접근자"
      ]
    },
    {
      "cell_type": "markdown",
      "metadata": {
        "id": "k398sVacqb9Z"
      },
      "source": [
        "datetime 자료형 시리즈에는 dt 접근자가 있어 datetime 자료형이 가진 몇가지 유용한 속성과 메서드를 사용할 수 있다."
      ]
    },
    {
      "cell_type": "code",
      "metadata": {
        "id": "VlPgAEy2qb9a"
      },
      "source": [
        "s = pd.Series(pd.date_range(\"2020-12-25\", periods=100, freq=\"D\"))\n",
        "s"
      ],
      "execution_count": null,
      "outputs": []
    },
    {
      "cell_type": "markdown",
      "metadata": {
        "id": "opKRnnNDqb9b"
      },
      "source": [
        "예를 들어 `year`, `month`, `day`, `weekday` 등의 속성을 이용하면 년, 월, 일, 요일 정보를 빼낼 수 있다."
      ]
    },
    {
      "cell_type": "code",
      "metadata": {
        "id": "cRlvndakqb9b"
      },
      "source": [
        "s.dt.year"
      ],
      "execution_count": null,
      "outputs": []
    },
    {
      "cell_type": "code",
      "metadata": {
        "id": "o-NMmFDEqb9c"
      },
      "source": [
        "s.dt.weekday"
      ],
      "execution_count": null,
      "outputs": []
    },
    {
      "cell_type": "markdown",
      "metadata": {
        "id": "CoOE6jN3qb9d"
      },
      "source": [
        "`strftime` 메서드를 이용하여 문자열을 만드는 것도 가능하다."
      ]
    },
    {
      "cell_type": "code",
      "metadata": {
        "id": "NU2-2VoZqb9e"
      },
      "source": [
        "s.dt.strftime(\"%Y년 %m월 %d일\")"
      ],
      "execution_count": null,
      "outputs": []
    },
    {
      "cell_type": "markdown",
      "metadata": {
        "id": "JIuhlrfdqb9e"
      },
      "source": [
        "````{admonition} 연습 문제 4.8.1\n",
        "\n",
        "다음 명령으로 만들어진 데이터프레임에 대해 월별 value의 합계를 구하라.\n",
        "(힌트: `groupby` 메서드와 `dt` 접근자를 사용하라)\n",
        "\n",
        "```\n",
        "np.random.seed(0)\n",
        "df = pd.DataFrame({\n",
        "    \"date\": pd.date_range(\"2020-12-25\", periods=100, freq=\"D\"), \n",
        "    \"value\": np.random.randint(100, size=(100,))\n",
        "})\n",
        "```\n",
        "````"
      ]
    },
    {
      "cell_type": "code",
      "metadata": {
        "id": "0C2zHozTqb9f"
      },
      "source": [
        ""
      ],
      "execution_count": null,
      "outputs": []
    }
  ]
}