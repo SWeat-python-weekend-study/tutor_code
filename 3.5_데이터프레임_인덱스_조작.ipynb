{
  "nbformat": 4,
  "nbformat_minor": 0,
  "metadata": {
    "celltoolbar": "Edit Metadata",
    "kernelspec": {
      "display_name": "Python 3",
      "language": "python",
      "name": "python3"
    },
    "language_info": {
      "codemirror_mode": {
        "name": "ipython",
        "version": 3
      },
      "file_extension": ".py",
      "mimetype": "text/x-python",
      "name": "python",
      "nbconvert_exporter": "python",
      "pygments_lexer": "ipython3",
      "version": "3.7.6"
    },
    "latex_envs": {
      "LaTeX_envs_menu_present": true,
      "autoclose": false,
      "autocomplete": true,
      "bibliofile": "biblio.bib",
      "cite_by": "apalike",
      "current_citInitial": 1,
      "eqLabelWithNumbers": true,
      "eqNumInitial": 1,
      "hotkeys": {
        "equation": "Ctrl-E",
        "itemize": "Ctrl-I"
      },
      "labels_anchors": false,
      "latex_user_defs": false,
      "report_style_numbering": false,
      "user_envs_cfg": false
    },
    "colab": {
      "name": "3.5 데이터프레임 인덱스 조작.ipynb의 사본",
      "provenance": [],
      "include_colab_link": true
    }
  },
  "cells": [
    {
      "cell_type": "markdown",
      "metadata": {
        "id": "view-in-github",
        "colab_type": "text"
      },
      "source": [
        "<a href=\"https://colab.research.google.com/github/SWeat-python-weekend-study/tutor_code/blob/lesson3-1/3.5_%EB%8D%B0%EC%9D%B4%ED%84%B0%ED%94%84%EB%A0%88%EC%9E%84_%EC%9D%B8%EB%8D%B1%EC%8A%A4_%EC%A1%B0%EC%9E%91.ipynb\" target=\"_parent\"><img src=\"https://colab.research.google.com/assets/colab-badge.svg\" alt=\"Open In Colab\"/></a>"
      ]
    },
    {
      "cell_type": "markdown",
      "metadata": {
        "school_cell_uuid": "83a5dc84908a47c89462de881b5eb17c",
        "id": "gIeYVY0SYwNk"
      },
      "source": [
        "# 3.5 데이터프레임 인덱스 조작"
      ]
    },
    {
      "cell_type": "markdown",
      "metadata": {
        "school_cell_uuid": "5b8a7444f43c480ba18ec7ff4bbe3dc6",
        "id": "DbYYFs49YwN1"
      },
      "source": [
        "## 데이터프레임 인덱스 설정 및 제거"
      ]
    },
    {
      "cell_type": "markdown",
      "metadata": {
        "school_cell_uuid": "1a2853c8796d4cb0a17a3cde44ce7580",
        "id": "I52m08hQYwN3"
      },
      "source": [
        "때로는 데이터프레임에 인덱스로 들어가 있어야 할 데이터가 일반 데이터 열에 들어가 있거나 반대로 일반 데이터 열이어야 할 것이 인덱스로 되어 있을 수 있다. 이 때는 `set_index` 명령이나 `reset_index` 명령으로 인덱스와 일반 데이터 열을 교환할 수 있다.\n",
        "\n",
        "* `set_index` : 기존의 행 인덱스를 제거하고 데이터 열 중 하나를 인덱스로 설정\n",
        "* `reset_index` : 기존의 행 인덱스를 제거하고 인덱스를 데이터 열로 추가"
      ]
    },
    {
      "cell_type": "code",
      "metadata": {
        "id": "xoMwMvnMZJBw"
      },
      "source": [
        "import pandas as pd\r\n",
        "import numpy as np"
      ],
      "execution_count": null,
      "outputs": []
    },
    {
      "cell_type": "code",
      "metadata": {
        "school_cell_uuid": "fcede1948a384f49872e20d8b5189d0a",
        "id": "4Aw-NFryYwN4"
      },
      "source": [
        "np.random.seed(0)\n",
        "df1 = pd.DataFrame(np.vstack([list('ABCDE'),\n",
        "                              np.round(np.random.rand(3, 5), 2)]).T,\n",
        "                   columns=[\"C1\", \"C2\", \"C3\", \"C4\"])\n",
        "df1"
      ],
      "execution_count": null,
      "outputs": []
    },
    {
      "cell_type": "markdown",
      "metadata": {
        "id": "aUcUnUt0YwOA"
      },
      "source": [
        "```{margin}\n",
        "`set_index`\n",
        "```"
      ]
    },
    {
      "cell_type": "markdown",
      "metadata": {
        "school_cell_uuid": "34135321278a4a5bb52b17a4dd031a17",
        "id": "INi8UCvAYwOB"
      },
      "source": [
        "`set_index` 메서드로 특정한 열을 인덱스로 설정할 수 있다. 이 때 기존의 인덱스는 없어진다."
      ]
    },
    {
      "cell_type": "code",
      "metadata": {
        "school_cell_uuid": "4c416569dec34d678bcb2cc4f86569a1",
        "id": "kNNv2C04YwOC"
      },
      "source": [
        "df2 = df1.set_index(\"C1\")\n",
        "df2"
      ],
      "execution_count": null,
      "outputs": []
    },
    {
      "cell_type": "markdown",
      "metadata": {
        "school_cell_uuid": "f1f1dcb4f40c407bb157b7d56af89709",
        "id": "x-hhIepDYwOD"
      },
      "source": [
        "마찬가지로 C2열을 인덱스로 지정하면 기존의 인덱스는 사라진다."
      ]
    },
    {
      "cell_type": "code",
      "metadata": {
        "school_cell_uuid": "fb681e62abb54f61877bc3e58d400098",
        "id": "HlhB2TgmYwOE"
      },
      "source": [
        "df2.set_index(\"C2\")"
      ],
      "execution_count": null,
      "outputs": []
    },
    {
      "cell_type": "markdown",
      "metadata": {
        "id": "wj_RBy3AYwOF"
      },
      "source": [
        "```{margin}\n",
        "`reset_index`\n",
        "```"
      ]
    },
    {
      "cell_type": "markdown",
      "metadata": {
        "school_cell_uuid": "7f70297137b34365a5c2eedb16af1ee5",
        "id": "_BtS-8YnYwOF"
      },
      "source": [
        "반대로 `reset_index` 메서드를 쓰면 인덱스를 보통의 자료열로 바꿀 수도 있다. 이 때 인덱스 열은 자료열의 가장 선두로 삽입된다. 데이터프레임의 인덱스는 정수로 된 디폴트 인덱스로 바뀐다."
      ]
    },
    {
      "cell_type": "code",
      "metadata": {
        "school_cell_uuid": "9e02d2e2d00f49be9edb6d726e100d8c",
        "id": "W1nWJ8noYwOG"
      },
      "source": [
        "df2.reset_index()"
      ],
      "execution_count": null,
      "outputs": []
    },
    {
      "cell_type": "markdown",
      "metadata": {
        "school_cell_uuid": "ef36cbec78054e9a8b546fae48404637",
        "id": "7mBA8R7eYwOH"
      },
      "source": [
        "`reset_index` 메서드를 호출할 때 인수 `drop=True` 로 설정하면 인덱스 열을 보통의 자료열로 올리는 것이 아니라 그냥 버리게 된다."
      ]
    },
    {
      "cell_type": "code",
      "metadata": {
        "school_cell_uuid": "fe4ed95e84e94338a8e3b6620aebc533",
        "id": "HP2UCjN1YwOI"
      },
      "source": [
        "df2.reset_index(drop=True)"
      ],
      "execution_count": null,
      "outputs": []
    },
    {
      "cell_type": "markdown",
      "metadata": {
        "bootstrap": {
          "panel": {
            "class": "panel-default"
          }
        },
        "school_cell_uuid": "f0df724ef2b74bc29190c2a96a96f6a9",
        "id": "L09QQ52OYwOK"
      },
      "source": [
        "**<스스로> 연습문제**\n",
        "````{admonition} 연습 문제 4.5.1\n",
        "\n",
        "5명의 학생의 국어, 영어, 수학 점수를 나타내는 데이터프레임을 다음과 같이 만든다.\n",
        "\n",
        "1. 학생 이름을 나타내는 열을 포함시키지 않고 데이터프레임 `df_score1` 을 생성한 후, `df_score1.index` 속성에 학생 이름을 나타내는 열을 지정하여 인덱스를 지정한다. `reset_index` 명령으로 이 인덱스 열을 명령으로 일반 데이터열로 바꾸여 데이터프레임 `df_score2`을 만든다.\n",
        "2. 학생 이름을 나타내는 열이 일반 데이터 열을 포함하는 데이터프레임 `df_score2`에 `set_index` 명령을 적용하여 다시 학생 이름을 나타내는 열을 인덱스로 변경한다.\n",
        "````"
      ]
    },
    {
      "cell_type": "markdown",
      "metadata": {
        "school_cell_uuid": "aed06e2ba78d4092ae9956946788dd96",
        "id": "vj2t9yz5btyk"
      },
      "source": [
        "## 행 인덱스와 열 인덱스 교환"
      ]
    },
    {
      "cell_type": "markdown",
      "metadata": {
        "id": "p2ayp4mKbtyk"
      },
      "source": [
        "```{margin}\n",
        "`stack`\n",
        "```"
      ]
    },
    {
      "cell_type": "markdown",
      "metadata": {
        "id": "3YGDMEq1btyk"
      },
      "source": [
        "```{margin}\n",
        "`unstack`\n",
        "```"
      ]
    },
    {
      "cell_type": "markdown",
      "metadata": {
        "id": "C6WEOocwbtyl"
      },
      "source": [
        "`stack` 메서드나 `unstack` 메서드를 쓰면 열 인덱스를 행 인덱스로 바꾸거나 반대로 행 인덱스를 열 인덱스로 바꿀 수 있다.\n",
        "\n",
        "* `stack`\n",
        " * 열 인덱스 -> 행 인덱스로 변환\n",
        " * stack 상단 헤더 컬럼들을 index 기준으로 각각 재그룹화 (기존 인덱스의 하위 레벨로 그룹핑)\n",
        "\n",
        "* `unstack`\n",
        " * 행 인덱스 -> 열 인덱스로 변환\n",
        " * unstack 멀티 인덱스를 컬럼 기준으로 재그룹화 시키는 방법 (기존 헤더의 하위 레벨로 그룹핑)\n",
        "\n",
        "`stack` 메서드를 실행하면 열 인덱스가 반시계 방향으로 90도 회전한 것과 비슷한 모양이 된다. 마찬가지로 `unstack` 메서드를 실행하면 행 인덱스가 시계 방향으로 90도 회전한 것과 비슷하다. 인덱스를 지정할 때는 문자열 이름과 순서를 표시하는 숫자 인덱스를 모두 사용할 수 있다."
      ]
    },
    {
      "cell_type": "code",
      "metadata": {
        "id": "xElX2ulNcHYL"
      },
      "source": [
        "_f = pd.DataFrame([[1,'A'], [2,'B']], columns=['C1','C2'], index=['I1','I2'])\r\n",
        "_f"
      ],
      "execution_count": null,
      "outputs": []
    },
    {
      "cell_type": "code",
      "metadata": {
        "id": "Ky6_zvyxcVQ-"
      },
      "source": [
        "_f.stack()"
      ],
      "execution_count": null,
      "outputs": []
    },
    {
      "cell_type": "code",
      "metadata": {
        "id": "zr3LYnpCcn98"
      },
      "source": [
        "_f.stack().unstack()"
      ],
      "execution_count": null,
      "outputs": []
    }
  ]
}