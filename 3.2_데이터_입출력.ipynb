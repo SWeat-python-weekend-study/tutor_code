{
  "nbformat": 4,
  "nbformat_minor": 0,
  "metadata": {
    "celltoolbar": "Edit Metadata",
    "kernelspec": {
      "display_name": "Python 3",
      "language": "python",
      "name": "python3"
    },
    "language_info": {
      "codemirror_mode": {
        "name": "ipython",
        "version": 3
      },
      "file_extension": ".py",
      "mimetype": "text/x-python",
      "name": "python",
      "nbconvert_exporter": "python",
      "pygments_lexer": "ipython3",
      "version": "3.7.6"
    },
    "latex_envs": {
      "LaTeX_envs_menu_present": true,
      "autoclose": false,
      "autocomplete": true,
      "bibliofile": "biblio.bib",
      "cite_by": "apalike",
      "current_citInitial": 1,
      "eqLabelWithNumbers": true,
      "eqNumInitial": 1,
      "hotkeys": {
        "equation": "Ctrl-E",
        "itemize": "Ctrl-I"
      },
      "labels_anchors": false,
      "latex_user_defs": false,
      "report_style_numbering": false,
      "user_envs_cfg": false
    },
    "colab": {
      "name": "04.02 데이터 입출력.ipynb의 사본",
      "provenance": [],
      "include_colab_link": true
    }
  },
  "cells": [
    {
      "cell_type": "markdown",
      "metadata": {
        "id": "view-in-github",
        "colab_type": "text"
      },
      "source": [
        "<a href=\"https://colab.research.google.com/github/SWeat-python-weekend-study/tutor_code/blob/lesson2-2/3.2_%EB%8D%B0%EC%9D%B4%ED%84%B0_%EC%9E%85%EC%B6%9C%EB%A0%A5.ipynb\" target=\"_parent\"><img src=\"https://colab.research.google.com/assets/colab-badge.svg\" alt=\"Open In Colab\"/></a>"
      ]
    },
    {
      "cell_type": "markdown",
      "metadata": {
        "school_cell_uuid": "c190ff5d2f374355986c7ca85d29bf70",
        "id": "rWtaRP7RXSSm"
      },
      "source": [
        "# 3.2 데이터 입출력"
      ]
    },
    {
      "cell_type": "markdown",
      "metadata": {
        "school_cell_uuid": "6d216f42f1fd4aec87b08532409ba26c",
        "id": "2W1IS1OXXSSu"
      },
      "source": [
        "Pandas는 데이터 파일을 읽어 데이터프레임을 만들 수 있다. 다음처럼 여러가지 포맷을 지원한다.\n",
        "\n",
        "* CSV\n",
        "* Excel\n",
        "* HTML\n",
        "* JSON\n",
        "* HDF5\n",
        "* SAS\n",
        "* STATA\n",
        "* SQL"
      ]
    },
    {
      "cell_type": "markdown",
      "metadata": {
        "school_cell_uuid": "f0db807a271f4add8e82f69d883dbb87",
        "id": "-7-NSM68XSSw"
      },
      "source": [
        "여기에서는 가장 단순하지만 널리 사용되는 CSV(Comman Separated Value) 포맷 입출력에 대해 살펴본다. CSV 파일 포맷은 데이터 값이 쉽표(comma)로 구분되는 텍스트 파일이다. "
      ]
    },
    {
      "cell_type": "markdown",
      "metadata": {
        "school_cell_uuid": "4223190dec34477986120b1ff8a403d0",
        "id": "-YjcCMZuXSSw"
      },
      "source": [
        "## `%%writefile` 명령"
      ]
    },
    {
      "cell_type": "markdown",
      "metadata": {
        "school_cell_uuid": "471c1baaa51f40ae93aef6c558935c8f",
        "id": "86okYuAKXSSx"
      },
      "source": [
        "샘플 데이터로 사용할 CSV 파일을 `%%writefile` 매직(magic) 명령으로 만들어보자. 이 명령은 셀에 서술한 내용대로 텍스트 파일을 만드는 명령이다."
      ]
    },
    {
      "cell_type": "code",
      "metadata": {
        "school_cell_uuid": "04b3ff9d1cae45dd8beaf4c7e641ba8a",
        "id": "AUzu6a-0XSSy"
      },
      "source": [
        "%%writefile sample1.csv\n",
        "c1, c2, c3\n",
        "1, 1.11, one\n",
        "2, 2.22, two\n",
        "3, 3.33, three"
      ],
      "execution_count": null,
      "outputs": []
    },
    {
      "cell_type": "markdown",
      "metadata": {
        "school_cell_uuid": "585cf606dbaf46a69ca3c2150d04c165",
        "id": "GW1fJZsxXSSz"
      },
      "source": [
        "## CSV 파일 입력"
      ]
    },
    {
      "cell_type": "markdown",
      "metadata": {
        "school_cell_uuid": "6373d2d133e74d59a6ff710d20233f74",
        "id": "0pVZf1SoXSS0"
      },
      "source": [
        "CSV 파일로부터 데이터를 읽어 데이터프레임을 만들 때는 `pandas.read_csv` 함수를 사용한다. 함수의 입력값으로 파일 이름을 넣는다."
      ]
    },
    {
      "cell_type": "code",
      "metadata": {
        "id": "mArWeKhlXkIn"
      },
      "source": [
        "import pandas as pd"
      ],
      "execution_count": null,
      "outputs": []
    },
    {
      "cell_type": "code",
      "metadata": {
        "school_cell_uuid": "a11e9a06250a48ccb58a55f92a42f790",
        "id": "C9muOlJrXSS0"
      },
      "source": [
        "pd.read_csv('sample1.csv')"
      ],
      "execution_count": null,
      "outputs": []
    },
    {
      "cell_type": "markdown",
      "metadata": {
        "school_cell_uuid": "9f7563f5d3844ebf98960a09a26bf054",
        "id": "g1X4Oye9XSS1"
      },
      "source": [
        "위에서 읽은 데이터에는 열 인덱스는 있지만 행 인덱스 정보가 없으므로 0부터 시작하는 정수 인덱스가 자동으로 추가되었다. \n",
        "\n",
        "만약 데이터 파일에 열 인덱스 정보가 없는 경우에는 `read_csv` 명령의 `names` 인수로 설정할 수 있다."
      ]
    },
    {
      "cell_type": "code",
      "metadata": {
        "school_cell_uuid": "c82a70ae7c4e48178dedda62df3c9cb9",
        "id": "n-mcHh0uXSS2"
      },
      "source": [
        "%%writefile sample2.csv\n",
        "1, 1.11, one\n",
        "2, 2.22, two\n",
        "3, 3.33, three"
      ],
      "execution_count": null,
      "outputs": []
    },
    {
      "cell_type": "code",
      "metadata": {
        "school_cell_uuid": "330426027afe4a4fbd8fb68c34602a1f",
        "id": "V9JsBg-XXSS2"
      },
      "source": [
        "pd.read_csv('sample2.csv', names=['c1', 'c2', 'c3'])"
      ],
      "execution_count": null,
      "outputs": []
    },
    {
      "cell_type": "markdown",
      "metadata": {
        "school_cell_uuid": "ae8f956f97c74e4f921f174ee52dda55",
        "id": "q7FlBU2SXSS3"
      },
      "source": [
        "만약 테이블 내의 특정한 열을 행 인덱스로 지정하고 싶으면 `index_col` 인수를 사용한다."
      ]
    },
    {
      "cell_type": "code",
      "metadata": {
        "school_cell_uuid": "a6674bc479594bf08fd3f977dae3ca0e",
        "id": "Gjn_dDH0XSS3"
      },
      "source": [
        "pd.read_csv('sample1.csv', index_col='c1')"
      ],
      "execution_count": null,
      "outputs": []
    },
    {
      "cell_type": "markdown",
      "metadata": {
        "school_cell_uuid": "c7d03aa1fdcd49c69ae3ad4981dd82fa",
        "id": "hzjgk53qXSS3"
      },
      "source": [
        "확장자가 CSV가 아닌 파일 즉, 데이터를 구분하는 구분자(separator)가 쉼표(comma)가 아니면 `sep` 인수를 써서 구분자를 사용자가 지정해준다. 만약 길이가 정해지지 않은 공백이 구분자인 경우에는 `\\s+` 정규식(regular expression) 문자열을 사용한다."
      ]
    },
    {
      "cell_type": "code",
      "metadata": {
        "school_cell_uuid": "ce5e05c5b3b34eeb85d8e84f5b65f921",
        "id": "um3TSJR5XSS4"
      },
      "source": [
        "%%writefile sample3.txt\n",
        "c1        c2        c3        c4\n",
        "0.179181 -1.538472  1.347553  0.43381\n",
        "1.024209  0.087307 -1.281997  0.49265\n",
        "0.417899 -2.002308  0.255245 -1.10515"
      ],
      "execution_count": null,
      "outputs": []
    },
    {
      "cell_type": "code",
      "metadata": {
        "school_cell_uuid": "19bce18706a249b8b9f8ec5d1a15a4d2",
        "id": "ga6C6iaPXSS4"
      },
      "source": [
        "pd.read_table('sample3.txt', sep='\\s+')"
      ],
      "execution_count": null,
      "outputs": []
    },
    {
      "cell_type": "markdown",
      "metadata": {
        "school_cell_uuid": "716de67f99fa4073b8c641f6caae9d43",
        "id": "YNPnql2lXSS5"
      },
      "source": [
        "만약 자료 파일 중에 건너 뛰어야 할 행이 있으면 `skiprows` 인수를 사용한다."
      ]
    },
    {
      "cell_type": "code",
      "metadata": {
        "school_cell_uuid": "afd1d8541cdf46e590abb486d3226817",
        "id": "d5UKF0nnXSS5"
      },
      "source": [
        "%%writefile sample4.txt\n",
        "파일 제목: sample4.txt\n",
        "데이터 포맷의 설명:\n",
        "c1, c2, c3\n",
        "1, 1.11, one\n",
        "2, 2.22, two\n",
        "3, 3.33, three"
      ],
      "execution_count": null,
      "outputs": []
    },
    {
      "cell_type": "code",
      "metadata": {
        "school_cell_uuid": "ab27874de370404e9e290a0f1e57a974",
        "id": "p29AVL_DXSS5"
      },
      "source": [
        "pd.read_csv('sample4.txt', skiprows=[0, 1])"
      ],
      "execution_count": null,
      "outputs": []
    },
    {
      "cell_type": "markdown",
      "metadata": {
        "school_cell_uuid": "a96dbf68be95433ea16e2493d4905329",
        "id": "PEixp-5iXSS6"
      },
      "source": [
        "특정한 값을 NaN으로 취급하고 싶으면 `na_values` 인수에 NaN 값으로 취급할 값을 넣는다."
      ]
    },
    {
      "cell_type": "code",
      "metadata": {
        "school_cell_uuid": "ad0bac04eec146e7b4fc7b69f3fba231",
        "id": "1QCl7xXdXSS6"
      },
      "source": [
        "%%writefile sample5.csv\n",
        "c1, c2, c3\n",
        "1, 1.11, one\n",
        "2, , two\n",
        "누락, 3.33, three"
      ],
      "execution_count": null,
      "outputs": []
    },
    {
      "cell_type": "code",
      "metadata": {
        "school_cell_uuid": "954ab32395244769bf464831e0476097",
        "id": "hRx8W2zIXSS6"
      },
      "source": [
        "df = pd.read_csv('sample5.csv', na_values=['누락'])\n",
        "df"
      ],
      "execution_count": null,
      "outputs": []
    },
    {
      "cell_type": "markdown",
      "metadata": {
        "school_cell_uuid": "e8d7e3be4edd44abb969b861b6a3118e",
        "id": "qSeUmrfYXSS7"
      },
      "source": [
        "## CSV 파일 출력"
      ]
    },
    {
      "cell_type": "markdown",
      "metadata": {
        "school_cell_uuid": "7320d2780f224e4ba05ee485ac7c615e",
        "id": "vaINRbUuXSS7"
      },
      "source": [
        "지금까지와 반대로 파이썬의 데이터프레임 값을 CSV 파일로 출력하고 싶으면 `to_csv` 메서드를 사용한다."
      ]
    },
    {
      "cell_type": "code",
      "metadata": {
        "school_cell_uuid": "99ee0967ffc2407b82364fc6618976da",
        "id": "u3Rse56rXSS7"
      },
      "source": [
        "df.to_csv('sample6.csv')"
      ],
      "execution_count": null,
      "outputs": []
    },
    {
      "cell_type": "markdown",
      "metadata": {
        "school_cell_uuid": "ceb06c9898434a8a9f331f45c3461640",
        "id": "SP6cmbXAXSS8"
      },
      "source": [
        "리눅스나 맥에서는 `cat` 셸 명령으로 파일의 내용을 확인할 수 있다. 윈도우에서는 `type` 함수를 사용한다. 느낌표(!)는 셸 함수를 사용하기 위한 아이파이썬(IPython) 매직 명령이다."
      ]
    },
    {
      "cell_type": "code",
      "metadata": {
        "school_cell_uuid": "82fe9c3d96954f25beeaa9ad7c28835d",
        "id": "fphr82UpXSS8"
      },
      "source": [
        "cat sample6.csv  # 윈도우에서는 !type sample6.csv 함수를 사용"
      ],
      "execution_count": null,
      "outputs": []
    },
    {
      "cell_type": "markdown",
      "metadata": {
        "school_cell_uuid": "23e7679e86a34fca9abe6da6aa74bb68",
        "id": "DMdYXODgXSS8"
      },
      "source": [
        "파일을 읽을 때와 마찬가지로 출력할 때도 `sep` 인수로 구분자를 바꿀 수 있다."
      ]
    },
    {
      "cell_type": "code",
      "metadata": {
        "school_cell_uuid": "94886907e74046f496adb3a1124d0b41",
        "id": "ESC7bcY6XSS9"
      },
      "source": [
        "df.to_csv('sample7.txt', sep='|')"
      ],
      "execution_count": null,
      "outputs": []
    },
    {
      "cell_type": "code",
      "metadata": {
        "school_cell_uuid": "19776531502b415a90a6493d8ab4325c",
        "id": "UR7fYCuqXSS9"
      },
      "source": [
        "cat sample7.txt"
      ],
      "execution_count": null,
      "outputs": []
    },
    {
      "cell_type": "markdown",
      "metadata": {
        "school_cell_uuid": "8ed023c1b13c42fab7638a5fd6e184a0",
        "id": "RFnBVKJWXSS_"
      },
      "source": [
        "또 `na_rep` 인수로 NaN 표시값을 바꿀 수도 있다."
      ]
    },
    {
      "cell_type": "code",
      "metadata": {
        "school_cell_uuid": "88a5884762074c9eb8d31c2315dabf43",
        "id": "bkgOrZwlXSTA"
      },
      "source": [
        "df.to_csv('sample8.csv', na_rep='누락')"
      ],
      "execution_count": null,
      "outputs": []
    },
    {
      "cell_type": "code",
      "metadata": {
        "school_cell_uuid": "dfdc80cbf1d74d8ca416f02ce380bd9c",
        "id": "sxVrf3dsXSTA"
      },
      "source": [
        "cat sample8.csv"
      ],
      "execution_count": null,
      "outputs": []
    },
    {
      "cell_type": "markdown",
      "metadata": {
        "school_cell_uuid": "febf13e8c64747e0b2304d336df52625",
        "id": "7ffyUfXvXSTB"
      },
      "source": [
        "`index`, `header` 인수를 지정하여 인덱스 및 헤더 출력 여부를 지정하는 것도 가능하다."
      ]
    },
    {
      "cell_type": "code",
      "metadata": {
        "school_cell_uuid": "9426f4474213449eb4b4afae3b7e34cc",
        "id": "R3bjX8rAXSTB"
      },
      "source": [
        "df.index = [\"a\", \"b\", \"c\"]\n",
        "df"
      ],
      "execution_count": null,
      "outputs": []
    },
    {
      "cell_type": "code",
      "metadata": {
        "school_cell_uuid": "17fd313193c546b68518dacc4e81089e",
        "id": "Lawq_djrXSTB"
      },
      "source": [
        "df.to_csv('sample9.csv', index=False, header=False)"
      ],
      "execution_count": null,
      "outputs": []
    },
    {
      "cell_type": "code",
      "metadata": {
        "school_cell_uuid": "b5cc2ffbc57f42c5b3729bb4883ce23c",
        "id": "GEz33LctXSTC"
      },
      "source": [
        "cat sample9.csv  # 윈도우에서는 !type sample6.csv 함수를 사용"
      ],
      "execution_count": null,
      "outputs": []
    },
    {
      "cell_type": "markdown",
      "metadata": {
        "school_cell_uuid": "9445a995ccc648b99f5aff1fb7f3db82",
        "id": "bljMvmNyXSTC"
      },
      "source": [
        "## 인터넷 상의 CSV 파일 입력"
      ]
    },
    {
      "cell_type": "markdown",
      "metadata": {
        "school_cell_uuid": "5fc91f8e7370410492fd727deba9ed2b",
        "id": "NiEtoVczXSTC"
      },
      "source": [
        "웹상에는 다양한 데이터 파일이 CSV 파일 형태로 제공된다. `read_csv` 명령 사용시 파일 패스 대신 URL을 지정하면 Pandas가 직접 해당 파일을 다운로드하여 읽어들인다. 다음은 저자의 github 웹사이트에 저장되어 있는 데이터 파일을 원격으로 읽는 명령이다."
      ]
    },
    {
      "cell_type": "code",
      "metadata": {
        "school_cell_uuid": "d74b6350c95c40839b7c4d53a0b9450d",
        "id": "PKKZIGxoXSTC"
      },
      "source": [
        "df = pd.read_csv(\"https://raw.githubusercontent.com/datascienceschool/docker_rpython/master/data/titanic.csv\")"
      ],
      "execution_count": null,
      "outputs": []
    },
    {
      "cell_type": "markdown",
      "metadata": {
        "school_cell_uuid": "8d7dd1e60d504ea6afbaee0d61ac73ed",
        "id": "wWPOLVelXSTD"
      },
      "source": [
        "이 데이터프레임은 실제로 데이터 갯수, 즉 행(row)의 수가 890개가 넘는 대량의 데이터이다. 이렇게 데이터의 수가 많을 경우, 데이터프레임의 표현(representation)은 데이터 앞, 뒤의 일부분만 보여준다. 보여줄 행의 수는 `display.max_rows` 옵션으로 정할 수 있다."
      ]
    },
    {
      "cell_type": "code",
      "metadata": {
        "school_cell_uuid": "8d26823cb1744c548cd40ac8cfbb43ce",
        "id": "u3eIcbnOXSTD"
      },
      "source": [
        "pd.set_option(\"display.max_rows\", 20)  # 앞뒤로 모두 20행만 보여준다.\n",
        "df"
      ],
      "execution_count": null,
      "outputs": []
    },
    {
      "cell_type": "markdown",
      "metadata": {
        "school_cell_uuid": "f5aa795ed0c04da0bedbc0cb87e679cc",
        "id": "Y4SnPj1dXSTD"
      },
      "source": [
        "만약 앞이나 뒤의 특정 갯수만 보고 싶다면 `head` 메서드나 `tail` 메서드를 이용한다. 메서드 인수로 출력할 행의 수를 넣을 수도 있다."
      ]
    },
    {
      "cell_type": "code",
      "metadata": {
        "school_cell_uuid": "39378b2bd2f5423bac03a73fff37b009",
        "id": "UOtcVz6FXSTD"
      },
      "source": [
        "df.head()"
      ],
      "execution_count": null,
      "outputs": []
    },
    {
      "cell_type": "code",
      "metadata": {
        "school_cell_uuid": "24ed98afaf4c447e9795b01ac576617e",
        "id": "ziYHAdFxXSTE"
      },
      "source": [
        "df.tail(2)"
      ],
      "execution_count": null,
      "outputs": []
    }
  ]
}